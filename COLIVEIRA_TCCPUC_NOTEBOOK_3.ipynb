{
  "nbformat": 4,
  "nbformat_minor": 0,
  "metadata": {
    "colab": {
      "name": "COLIVEIRA_TCCPUC_NOTEBOOK_3.ipynb",
      "provenance": [],
      "collapsed_sections": [],
      "mount_file_id": "1NFRaStKTiBR_HqLSUdy4Qp9XuIYl9uPU",
      "authorship_tag": "ABX9TyNUJvJQiE0R9ldZ3bkPYAP7",
      "include_colab_link": true
    },
    "kernelspec": {
      "name": "python3",
      "display_name": "Python 3"
    },
    "language_info": {
      "name": "python"
    },
    "accelerator": "GPU"
  },
  "cells": [
    {
      "cell_type": "markdown",
      "metadata": {
        "id": "view-in-github",
        "colab_type": "text"
      },
      "source": [
        "<a href=\"https://colab.research.google.com/github/cbmoliveira/TCCPUC/blob/main/COLIVEIRA_TCCPUC_NOTEBOOK_3.ipynb\" target=\"_parent\"><img src=\"https://colab.research.google.com/assets/colab-badge.svg\" alt=\"Open In Colab\"/></a>"
      ]
    },
    {
      "cell_type": "markdown",
      "source": [
        "# RESULTADOS"
      ],
      "metadata": {
        "id": "LcyUiIIKFs_X"
      }
    },
    {
      "cell_type": "markdown",
      "source": [
        "### IMPORTAÇÃO DAS BIBLIOTECAS"
      ],
      "metadata": {
        "id": "ZebB9K1Kh8UH"
      }
    },
    {
      "cell_type": "code",
      "execution_count": null,
      "metadata": {
        "id": "9_x2cNxDdHyl"
      },
      "outputs": [],
      "source": [
        "from sklearn.preprocessing import Normalizer\n",
        "from sklearn.ensemble import RandomForestRegressor\n",
        "from sklearn.linear_model import LinearRegression\n",
        "from google.colab import drive\n",
        "from sklearn.model_selection import GridSearchCV\n",
        "import pandas as pd\n",
        "import numpy as np\n",
        "\n",
        "\n"
      ]
    },
    {
      "cell_type": "markdown",
      "source": [
        "### CARREGAMENTO DA BASE DE DADOS"
      ],
      "metadata": {
        "id": "by3ty-2vQtpE"
      }
    },
    {
      "cell_type": "code",
      "source": [
        "dados = pd.read_csv('/content/drive/MyDrive/tcc/resultf.csv', sep=',', \n",
        "                 index_col='Data',\n",
        "                 #date_parser=(lambda t:pd.to_datetime(str(t),format='%d/%m/%Y', dayfirst = True)), \n",
        "                 header=0)\n",
        "display(dados)"
      ],
      "metadata": {
        "colab": {
          "base_uri": "https://localhost:8080/",
          "height": 455
        },
        "id": "uGyFezP6dSZL",
        "outputId": "0d617d54-f394-4c86-b6c1-ca5abc949e36"
      },
      "execution_count": null,
      "outputs": [
        {
          "output_type": "display_data",
          "data": {
            "text/plain": [
              "             CL(cod)    Patm(mB)    RG(Kj/m²)    Tar(°C)      UR(%)  \\\n",
              "Data                                                                  \n",
              "2007-07-09  3.333333  924.700000   373.863833  19.066667  96.000000   \n",
              "2007-07-10  5.000000  923.966667   461.679208  19.400000  91.666667   \n",
              "2007-07-11  3.000000  924.400000   834.335458  20.266667  81.000000   \n",
              "2007-07-12  3.333333  924.833333   553.414042  19.333333  85.666667   \n",
              "2007-07-13  5.000000  926.100000   508.040625  19.666667  92.666667   \n",
              "...              ...         ...          ...        ...        ...   \n",
              "2020-12-27  2.000000  921.833333   686.362583  20.804167  84.000000   \n",
              "2020-12-28  2.000000  922.295833   876.021167  21.383333  79.291667   \n",
              "2020-12-29  2.000000  920.925000  1020.476500  21.591667  75.000000   \n",
              "2020-12-30  2.000000  920.775000   909.035125  22.091667  76.583333   \n",
              "2020-12-31  2.000000  922.254167   808.617417  21.629167  84.458333   \n",
              "\n",
              "                  V(°)  \n",
              "Data                    \n",
              "2007-07-09  111.833333  \n",
              "2007-07-10  114.250000  \n",
              "2007-07-11  115.375000  \n",
              "2007-07-12  128.791667  \n",
              "2007-07-13  143.083333  \n",
              "...                ...  \n",
              "2020-12-27   86.541667  \n",
              "2020-12-28  124.166667  \n",
              "2020-12-29  129.166667  \n",
              "2020-12-30  114.750000  \n",
              "2020-12-31  128.375000  \n",
              "\n",
              "[4925 rows x 6 columns]"
            ],
            "text/html": [
              "\n",
              "  <div id=\"df-7163ccf5-11b5-4871-b3b8-f241d66573c2\">\n",
              "    <div class=\"colab-df-container\">\n",
              "      <div>\n",
              "<style scoped>\n",
              "    .dataframe tbody tr th:only-of-type {\n",
              "        vertical-align: middle;\n",
              "    }\n",
              "\n",
              "    .dataframe tbody tr th {\n",
              "        vertical-align: top;\n",
              "    }\n",
              "\n",
              "    .dataframe thead th {\n",
              "        text-align: right;\n",
              "    }\n",
              "</style>\n",
              "<table border=\"1\" class=\"dataframe\">\n",
              "  <thead>\n",
              "    <tr style=\"text-align: right;\">\n",
              "      <th></th>\n",
              "      <th>CL(cod)</th>\n",
              "      <th>Patm(mB)</th>\n",
              "      <th>RG(Kj/m²)</th>\n",
              "      <th>Tar(°C)</th>\n",
              "      <th>UR(%)</th>\n",
              "      <th>V(°)</th>\n",
              "    </tr>\n",
              "    <tr>\n",
              "      <th>Data</th>\n",
              "      <th></th>\n",
              "      <th></th>\n",
              "      <th></th>\n",
              "      <th></th>\n",
              "      <th></th>\n",
              "      <th></th>\n",
              "    </tr>\n",
              "  </thead>\n",
              "  <tbody>\n",
              "    <tr>\n",
              "      <th>2007-07-09</th>\n",
              "      <td>3.333333</td>\n",
              "      <td>924.700000</td>\n",
              "      <td>373.863833</td>\n",
              "      <td>19.066667</td>\n",
              "      <td>96.000000</td>\n",
              "      <td>111.833333</td>\n",
              "    </tr>\n",
              "    <tr>\n",
              "      <th>2007-07-10</th>\n",
              "      <td>5.000000</td>\n",
              "      <td>923.966667</td>\n",
              "      <td>461.679208</td>\n",
              "      <td>19.400000</td>\n",
              "      <td>91.666667</td>\n",
              "      <td>114.250000</td>\n",
              "    </tr>\n",
              "    <tr>\n",
              "      <th>2007-07-11</th>\n",
              "      <td>3.000000</td>\n",
              "      <td>924.400000</td>\n",
              "      <td>834.335458</td>\n",
              "      <td>20.266667</td>\n",
              "      <td>81.000000</td>\n",
              "      <td>115.375000</td>\n",
              "    </tr>\n",
              "    <tr>\n",
              "      <th>2007-07-12</th>\n",
              "      <td>3.333333</td>\n",
              "      <td>924.833333</td>\n",
              "      <td>553.414042</td>\n",
              "      <td>19.333333</td>\n",
              "      <td>85.666667</td>\n",
              "      <td>128.791667</td>\n",
              "    </tr>\n",
              "    <tr>\n",
              "      <th>2007-07-13</th>\n",
              "      <td>5.000000</td>\n",
              "      <td>926.100000</td>\n",
              "      <td>508.040625</td>\n",
              "      <td>19.666667</td>\n",
              "      <td>92.666667</td>\n",
              "      <td>143.083333</td>\n",
              "    </tr>\n",
              "    <tr>\n",
              "      <th>...</th>\n",
              "      <td>...</td>\n",
              "      <td>...</td>\n",
              "      <td>...</td>\n",
              "      <td>...</td>\n",
              "      <td>...</td>\n",
              "      <td>...</td>\n",
              "    </tr>\n",
              "    <tr>\n",
              "      <th>2020-12-27</th>\n",
              "      <td>2.000000</td>\n",
              "      <td>921.833333</td>\n",
              "      <td>686.362583</td>\n",
              "      <td>20.804167</td>\n",
              "      <td>84.000000</td>\n",
              "      <td>86.541667</td>\n",
              "    </tr>\n",
              "    <tr>\n",
              "      <th>2020-12-28</th>\n",
              "      <td>2.000000</td>\n",
              "      <td>922.295833</td>\n",
              "      <td>876.021167</td>\n",
              "      <td>21.383333</td>\n",
              "      <td>79.291667</td>\n",
              "      <td>124.166667</td>\n",
              "    </tr>\n",
              "    <tr>\n",
              "      <th>2020-12-29</th>\n",
              "      <td>2.000000</td>\n",
              "      <td>920.925000</td>\n",
              "      <td>1020.476500</td>\n",
              "      <td>21.591667</td>\n",
              "      <td>75.000000</td>\n",
              "      <td>129.166667</td>\n",
              "    </tr>\n",
              "    <tr>\n",
              "      <th>2020-12-30</th>\n",
              "      <td>2.000000</td>\n",
              "      <td>920.775000</td>\n",
              "      <td>909.035125</td>\n",
              "      <td>22.091667</td>\n",
              "      <td>76.583333</td>\n",
              "      <td>114.750000</td>\n",
              "    </tr>\n",
              "    <tr>\n",
              "      <th>2020-12-31</th>\n",
              "      <td>2.000000</td>\n",
              "      <td>922.254167</td>\n",
              "      <td>808.617417</td>\n",
              "      <td>21.629167</td>\n",
              "      <td>84.458333</td>\n",
              "      <td>128.375000</td>\n",
              "    </tr>\n",
              "  </tbody>\n",
              "</table>\n",
              "<p>4925 rows × 6 columns</p>\n",
              "</div>\n",
              "      <button class=\"colab-df-convert\" onclick=\"convertToInteractive('df-7163ccf5-11b5-4871-b3b8-f241d66573c2')\"\n",
              "              title=\"Convert this dataframe to an interactive table.\"\n",
              "              style=\"display:none;\">\n",
              "        \n",
              "  <svg xmlns=\"http://www.w3.org/2000/svg\" height=\"24px\"viewBox=\"0 0 24 24\"\n",
              "       width=\"24px\">\n",
              "    <path d=\"M0 0h24v24H0V0z\" fill=\"none\"/>\n",
              "    <path d=\"M18.56 5.44l.94 2.06.94-2.06 2.06-.94-2.06-.94-.94-2.06-.94 2.06-2.06.94zm-11 1L8.5 8.5l.94-2.06 2.06-.94-2.06-.94L8.5 2.5l-.94 2.06-2.06.94zm10 10l.94 2.06.94-2.06 2.06-.94-2.06-.94-.94-2.06-.94 2.06-2.06.94z\"/><path d=\"M17.41 7.96l-1.37-1.37c-.4-.4-.92-.59-1.43-.59-.52 0-1.04.2-1.43.59L10.3 9.45l-7.72 7.72c-.78.78-.78 2.05 0 2.83L4 21.41c.39.39.9.59 1.41.59.51 0 1.02-.2 1.41-.59l7.78-7.78 2.81-2.81c.8-.78.8-2.07 0-2.86zM5.41 20L4 18.59l7.72-7.72 1.47 1.35L5.41 20z\"/>\n",
              "  </svg>\n",
              "      </button>\n",
              "      \n",
              "  <style>\n",
              "    .colab-df-container {\n",
              "      display:flex;\n",
              "      flex-wrap:wrap;\n",
              "      gap: 12px;\n",
              "    }\n",
              "\n",
              "    .colab-df-convert {\n",
              "      background-color: #E8F0FE;\n",
              "      border: none;\n",
              "      border-radius: 50%;\n",
              "      cursor: pointer;\n",
              "      display: none;\n",
              "      fill: #1967D2;\n",
              "      height: 32px;\n",
              "      padding: 0 0 0 0;\n",
              "      width: 32px;\n",
              "    }\n",
              "\n",
              "    .colab-df-convert:hover {\n",
              "      background-color: #E2EBFA;\n",
              "      box-shadow: 0px 1px 2px rgba(60, 64, 67, 0.3), 0px 1px 3px 1px rgba(60, 64, 67, 0.15);\n",
              "      fill: #174EA6;\n",
              "    }\n",
              "\n",
              "    [theme=dark] .colab-df-convert {\n",
              "      background-color: #3B4455;\n",
              "      fill: #D2E3FC;\n",
              "    }\n",
              "\n",
              "    [theme=dark] .colab-df-convert:hover {\n",
              "      background-color: #434B5C;\n",
              "      box-shadow: 0px 1px 3px 1px rgba(0, 0, 0, 0.15);\n",
              "      filter: drop-shadow(0px 1px 2px rgba(0, 0, 0, 0.3));\n",
              "      fill: #FFFFFF;\n",
              "    }\n",
              "  </style>\n",
              "\n",
              "      <script>\n",
              "        const buttonEl =\n",
              "          document.querySelector('#df-7163ccf5-11b5-4871-b3b8-f241d66573c2 button.colab-df-convert');\n",
              "        buttonEl.style.display =\n",
              "          google.colab.kernel.accessAllowed ? 'block' : 'none';\n",
              "\n",
              "        async function convertToInteractive(key) {\n",
              "          const element = document.querySelector('#df-7163ccf5-11b5-4871-b3b8-f241d66573c2');\n",
              "          const dataTable =\n",
              "            await google.colab.kernel.invokeFunction('convertToInteractive',\n",
              "                                                     [key], {});\n",
              "          if (!dataTable) return;\n",
              "\n",
              "          const docLinkHtml = 'Like what you see? Visit the ' +\n",
              "            '<a target=\"_blank\" href=https://colab.research.google.com/notebooks/data_table.ipynb>data table notebook</a>'\n",
              "            + ' to learn more about interactive tables.';\n",
              "          element.innerHTML = '';\n",
              "          dataTable['output_type'] = 'display_data';\n",
              "          await google.colab.output.renderOutput(dataTable, element);\n",
              "          const docLink = document.createElement('div');\n",
              "          docLink.innerHTML = docLinkHtml;\n",
              "          element.appendChild(docLink);\n",
              "        }\n",
              "      </script>\n",
              "    </div>\n",
              "  </div>\n",
              "  "
            ]
          },
          "metadata": {}
        }
      ]
    },
    {
      "cell_type": "markdown",
      "source": [
        "### COLUNAS"
      ],
      "metadata": {
        "id": "bmhKnXdniGs5"
      }
    },
    {
      "cell_type": "code",
      "source": [
        "dados.columns"
      ],
      "metadata": {
        "colab": {
          "base_uri": "https://localhost:8080/"
        },
        "id": "JADlJIfg_V-2",
        "outputId": "c9057d1e-5a58-4d0f-963d-3044885bcaf7"
      },
      "execution_count": null,
      "outputs": [
        {
          "output_type": "execute_result",
          "data": {
            "text/plain": [
              "Index(['CL(cod)', 'Patm(mB)', 'RG(Kj/m²)', 'Tar(°C)', 'UR(%)', 'V(°)'], dtype='object')"
            ]
          },
          "metadata": {},
          "execution_count": 138
        }
      ]
    },
    {
      "cell_type": "markdown",
      "source": [
        "### DIVISÃO EM VARIÁVEL TARGET"
      ],
      "metadata": {
        "id": "sQ2dmrTyiKR8"
      }
    },
    {
      "cell_type": "code",
      "source": [
        "#Classe, target, y\n",
        "dclass = dados['Tar(°C)']\n",
        "display(dclass)"
      ],
      "metadata": {
        "colab": {
          "base_uri": "https://localhost:8080/",
          "height": 243
        },
        "id": "fLMjmNcZeI1w",
        "outputId": "bddbf40f-c409-4f70-9cca-225bb44a63a1"
      },
      "execution_count": null,
      "outputs": [
        {
          "output_type": "display_data",
          "data": {
            "text/plain": [
              "Data\n",
              "2007-07-09    19.066667\n",
              "2007-07-10    19.400000\n",
              "2007-07-11    20.266667\n",
              "2007-07-12    19.333333\n",
              "2007-07-13    19.666667\n",
              "                ...    \n",
              "2020-12-27    20.804167\n",
              "2020-12-28    21.383333\n",
              "2020-12-29    21.591667\n",
              "2020-12-30    22.091667\n",
              "2020-12-31    21.629167\n",
              "Name: Tar(°C), Length: 4925, dtype: float64"
            ]
          },
          "metadata": {}
        }
      ]
    },
    {
      "cell_type": "markdown",
      "source": [
        "### DIVISÃO EM VARIÁVEL PREVISORA OU FEATURE"
      ],
      "metadata": {
        "id": "OaybpxEPiO-J"
      }
    },
    {
      "cell_type": "code",
      "source": [
        "#Previsores, feature, x\n",
        "dprev = dados.drop('Tar(°C)', axis=1)\n",
        "display(dprev)"
      ],
      "metadata": {
        "colab": {
          "base_uri": "https://localhost:8080/",
          "height": 455
        },
        "id": "gw7DPoY6gilR",
        "outputId": "45a2b1c4-9b20-4a89-ecf3-ae19c2e55f0d"
      },
      "execution_count": null,
      "outputs": [
        {
          "output_type": "display_data",
          "data": {
            "text/plain": [
              "             CL(cod)    Patm(mB)    RG(Kj/m²)      UR(%)        V(°)\n",
              "Data                                                                \n",
              "2007-07-09  3.333333  924.700000   373.863833  96.000000  111.833333\n",
              "2007-07-10  5.000000  923.966667   461.679208  91.666667  114.250000\n",
              "2007-07-11  3.000000  924.400000   834.335458  81.000000  115.375000\n",
              "2007-07-12  3.333333  924.833333   553.414042  85.666667  128.791667\n",
              "2007-07-13  5.000000  926.100000   508.040625  92.666667  143.083333\n",
              "...              ...         ...          ...        ...         ...\n",
              "2020-12-27  2.000000  921.833333   686.362583  84.000000   86.541667\n",
              "2020-12-28  2.000000  922.295833   876.021167  79.291667  124.166667\n",
              "2020-12-29  2.000000  920.925000  1020.476500  75.000000  129.166667\n",
              "2020-12-30  2.000000  920.775000   909.035125  76.583333  114.750000\n",
              "2020-12-31  2.000000  922.254167   808.617417  84.458333  128.375000\n",
              "\n",
              "[4925 rows x 5 columns]"
            ],
            "text/html": [
              "\n",
              "  <div id=\"df-778a544a-dd30-4d71-bd50-4456446058d1\">\n",
              "    <div class=\"colab-df-container\">\n",
              "      <div>\n",
              "<style scoped>\n",
              "    .dataframe tbody tr th:only-of-type {\n",
              "        vertical-align: middle;\n",
              "    }\n",
              "\n",
              "    .dataframe tbody tr th {\n",
              "        vertical-align: top;\n",
              "    }\n",
              "\n",
              "    .dataframe thead th {\n",
              "        text-align: right;\n",
              "    }\n",
              "</style>\n",
              "<table border=\"1\" class=\"dataframe\">\n",
              "  <thead>\n",
              "    <tr style=\"text-align: right;\">\n",
              "      <th></th>\n",
              "      <th>CL(cod)</th>\n",
              "      <th>Patm(mB)</th>\n",
              "      <th>RG(Kj/m²)</th>\n",
              "      <th>UR(%)</th>\n",
              "      <th>V(°)</th>\n",
              "    </tr>\n",
              "    <tr>\n",
              "      <th>Data</th>\n",
              "      <th></th>\n",
              "      <th></th>\n",
              "      <th></th>\n",
              "      <th></th>\n",
              "      <th></th>\n",
              "    </tr>\n",
              "  </thead>\n",
              "  <tbody>\n",
              "    <tr>\n",
              "      <th>2007-07-09</th>\n",
              "      <td>3.333333</td>\n",
              "      <td>924.700000</td>\n",
              "      <td>373.863833</td>\n",
              "      <td>96.000000</td>\n",
              "      <td>111.833333</td>\n",
              "    </tr>\n",
              "    <tr>\n",
              "      <th>2007-07-10</th>\n",
              "      <td>5.000000</td>\n",
              "      <td>923.966667</td>\n",
              "      <td>461.679208</td>\n",
              "      <td>91.666667</td>\n",
              "      <td>114.250000</td>\n",
              "    </tr>\n",
              "    <tr>\n",
              "      <th>2007-07-11</th>\n",
              "      <td>3.000000</td>\n",
              "      <td>924.400000</td>\n",
              "      <td>834.335458</td>\n",
              "      <td>81.000000</td>\n",
              "      <td>115.375000</td>\n",
              "    </tr>\n",
              "    <tr>\n",
              "      <th>2007-07-12</th>\n",
              "      <td>3.333333</td>\n",
              "      <td>924.833333</td>\n",
              "      <td>553.414042</td>\n",
              "      <td>85.666667</td>\n",
              "      <td>128.791667</td>\n",
              "    </tr>\n",
              "    <tr>\n",
              "      <th>2007-07-13</th>\n",
              "      <td>5.000000</td>\n",
              "      <td>926.100000</td>\n",
              "      <td>508.040625</td>\n",
              "      <td>92.666667</td>\n",
              "      <td>143.083333</td>\n",
              "    </tr>\n",
              "    <tr>\n",
              "      <th>...</th>\n",
              "      <td>...</td>\n",
              "      <td>...</td>\n",
              "      <td>...</td>\n",
              "      <td>...</td>\n",
              "      <td>...</td>\n",
              "    </tr>\n",
              "    <tr>\n",
              "      <th>2020-12-27</th>\n",
              "      <td>2.000000</td>\n",
              "      <td>921.833333</td>\n",
              "      <td>686.362583</td>\n",
              "      <td>84.000000</td>\n",
              "      <td>86.541667</td>\n",
              "    </tr>\n",
              "    <tr>\n",
              "      <th>2020-12-28</th>\n",
              "      <td>2.000000</td>\n",
              "      <td>922.295833</td>\n",
              "      <td>876.021167</td>\n",
              "      <td>79.291667</td>\n",
              "      <td>124.166667</td>\n",
              "    </tr>\n",
              "    <tr>\n",
              "      <th>2020-12-29</th>\n",
              "      <td>2.000000</td>\n",
              "      <td>920.925000</td>\n",
              "      <td>1020.476500</td>\n",
              "      <td>75.000000</td>\n",
              "      <td>129.166667</td>\n",
              "    </tr>\n",
              "    <tr>\n",
              "      <th>2020-12-30</th>\n",
              "      <td>2.000000</td>\n",
              "      <td>920.775000</td>\n",
              "      <td>909.035125</td>\n",
              "      <td>76.583333</td>\n",
              "      <td>114.750000</td>\n",
              "    </tr>\n",
              "    <tr>\n",
              "      <th>2020-12-31</th>\n",
              "      <td>2.000000</td>\n",
              "      <td>922.254167</td>\n",
              "      <td>808.617417</td>\n",
              "      <td>84.458333</td>\n",
              "      <td>128.375000</td>\n",
              "    </tr>\n",
              "  </tbody>\n",
              "</table>\n",
              "<p>4925 rows × 5 columns</p>\n",
              "</div>\n",
              "      <button class=\"colab-df-convert\" onclick=\"convertToInteractive('df-778a544a-dd30-4d71-bd50-4456446058d1')\"\n",
              "              title=\"Convert this dataframe to an interactive table.\"\n",
              "              style=\"display:none;\">\n",
              "        \n",
              "  <svg xmlns=\"http://www.w3.org/2000/svg\" height=\"24px\"viewBox=\"0 0 24 24\"\n",
              "       width=\"24px\">\n",
              "    <path d=\"M0 0h24v24H0V0z\" fill=\"none\"/>\n",
              "    <path d=\"M18.56 5.44l.94 2.06.94-2.06 2.06-.94-2.06-.94-.94-2.06-.94 2.06-2.06.94zm-11 1L8.5 8.5l.94-2.06 2.06-.94-2.06-.94L8.5 2.5l-.94 2.06-2.06.94zm10 10l.94 2.06.94-2.06 2.06-.94-2.06-.94-.94-2.06-.94 2.06-2.06.94z\"/><path d=\"M17.41 7.96l-1.37-1.37c-.4-.4-.92-.59-1.43-.59-.52 0-1.04.2-1.43.59L10.3 9.45l-7.72 7.72c-.78.78-.78 2.05 0 2.83L4 21.41c.39.39.9.59 1.41.59.51 0 1.02-.2 1.41-.59l7.78-7.78 2.81-2.81c.8-.78.8-2.07 0-2.86zM5.41 20L4 18.59l7.72-7.72 1.47 1.35L5.41 20z\"/>\n",
              "  </svg>\n",
              "      </button>\n",
              "      \n",
              "  <style>\n",
              "    .colab-df-container {\n",
              "      display:flex;\n",
              "      flex-wrap:wrap;\n",
              "      gap: 12px;\n",
              "    }\n",
              "\n",
              "    .colab-df-convert {\n",
              "      background-color: #E8F0FE;\n",
              "      border: none;\n",
              "      border-radius: 50%;\n",
              "      cursor: pointer;\n",
              "      display: none;\n",
              "      fill: #1967D2;\n",
              "      height: 32px;\n",
              "      padding: 0 0 0 0;\n",
              "      width: 32px;\n",
              "    }\n",
              "\n",
              "    .colab-df-convert:hover {\n",
              "      background-color: #E2EBFA;\n",
              "      box-shadow: 0px 1px 2px rgba(60, 64, 67, 0.3), 0px 1px 3px 1px rgba(60, 64, 67, 0.15);\n",
              "      fill: #174EA6;\n",
              "    }\n",
              "\n",
              "    [theme=dark] .colab-df-convert {\n",
              "      background-color: #3B4455;\n",
              "      fill: #D2E3FC;\n",
              "    }\n",
              "\n",
              "    [theme=dark] .colab-df-convert:hover {\n",
              "      background-color: #434B5C;\n",
              "      box-shadow: 0px 1px 3px 1px rgba(0, 0, 0, 0.15);\n",
              "      filter: drop-shadow(0px 1px 2px rgba(0, 0, 0, 0.3));\n",
              "      fill: #FFFFFF;\n",
              "    }\n",
              "  </style>\n",
              "\n",
              "      <script>\n",
              "        const buttonEl =\n",
              "          document.querySelector('#df-778a544a-dd30-4d71-bd50-4456446058d1 button.colab-df-convert');\n",
              "        buttonEl.style.display =\n",
              "          google.colab.kernel.accessAllowed ? 'block' : 'none';\n",
              "\n",
              "        async function convertToInteractive(key) {\n",
              "          const element = document.querySelector('#df-778a544a-dd30-4d71-bd50-4456446058d1');\n",
              "          const dataTable =\n",
              "            await google.colab.kernel.invokeFunction('convertToInteractive',\n",
              "                                                     [key], {});\n",
              "          if (!dataTable) return;\n",
              "\n",
              "          const docLinkHtml = 'Like what you see? Visit the ' +\n",
              "            '<a target=\"_blank\" href=https://colab.research.google.com/notebooks/data_table.ipynb>data table notebook</a>'\n",
              "            + ' to learn more about interactive tables.';\n",
              "          element.innerHTML = '';\n",
              "          dataTable['output_type'] = 'display_data';\n",
              "          await google.colab.output.renderOutput(dataTable, element);\n",
              "          const docLink = document.createElement('div');\n",
              "          docLink.innerHTML = docLinkHtml;\n",
              "          element.appendChild(docLink);\n",
              "        }\n",
              "      </script>\n",
              "    </div>\n",
              "  </div>\n",
              "  "
            ]
          },
          "metadata": {}
        }
      ]
    },
    {
      "cell_type": "markdown",
      "source": [
        "### NORMALIZAÇÃO DOS DADOS"
      ],
      "metadata": {
        "id": "DxppgN_JiVJ7"
      }
    },
    {
      "cell_type": "code",
      "source": [
        "dnorm = Normalizer().fit_transform(dprev)\n",
        "display(dnorm)"
      ],
      "metadata": {
        "colab": {
          "base_uri": "https://localhost:8080/",
          "height": 139
        },
        "id": "fE839jNXeLU4",
        "outputId": "91f953d3-79be-4af2-f7ac-d4a41e82287f"
      },
      "execution_count": null,
      "outputs": [
        {
          "output_type": "display_data",
          "data": {
            "text/plain": [
              "array([[0.00330604, 0.91712914, 0.37080287, 0.09521401, 0.11091771],\n",
              "       [0.00479278, 0.88567304, 0.442545  , 0.08786756, 0.10951493],\n",
              "       [0.00239387, 0.73763115, 0.66576355, 0.06463449, 0.09206425],\n",
              "       ...,\n",
              "       [0.00144647, 0.66604624, 0.73804548, 0.05424271, 0.093418  ],\n",
              "       [0.001537  , 0.70761717, 0.69859505, 0.05885442, 0.08818557],\n",
              "       [0.00161794, 0.74607823, 0.65414923, 0.06832447, 0.10385184]])"
            ]
          },
          "metadata": {}
        }
      ]
    },
    {
      "cell_type": "markdown",
      "source": [
        "### DIVISÃO DA BASE DE DADOS EM TESTE E TREINAMENTO"
      ],
      "metadata": {
        "id": "fLcOtnCyiX0p"
      }
    },
    {
      "cell_type": "code",
      "source": [
        "from sklearn.model_selection import train_test_split\n",
        "x_train, x_test, y_train, y_test = train_test_split(dnorm, dclass, test_size=0.20, random_state=1)"
      ],
      "metadata": {
        "id": "GyQLjxNpeN_n"
      },
      "execution_count": null,
      "outputs": []
    },
    {
      "cell_type": "code",
      "source": [
        "x_train.shape, y_train.shape"
      ],
      "metadata": {
        "colab": {
          "base_uri": "https://localhost:8080/"
        },
        "id": "8jA3gqh1gniI",
        "outputId": "73e7cae5-2200-4eb1-dbc9-abfe1a3c20f1"
      },
      "execution_count": null,
      "outputs": [
        {
          "output_type": "execute_result",
          "data": {
            "text/plain": [
              "((3940, 5), (3940,))"
            ]
          },
          "metadata": {},
          "execution_count": 23
        }
      ]
    },
    {
      "cell_type": "code",
      "source": [
        "x_test.shape, y_test.shape"
      ],
      "metadata": {
        "colab": {
          "base_uri": "https://localhost:8080/"
        },
        "id": "0rXW2p6FgtPf",
        "outputId": "a33c4078-58e7-48c1-8ddc-ffc0c8e288d3"
      },
      "execution_count": null,
      "outputs": [
        {
          "output_type": "execute_result",
          "data": {
            "text/plain": [
              "((985, 5), (985,))"
            ]
          },
          "metadata": {},
          "execution_count": 24
        }
      ]
    },
    {
      "cell_type": "code",
      "source": [
        "x_temp = np.concatenate((x_train, x_test), axis=0)\n",
        "x_temp.shape"
      ],
      "metadata": {
        "colab": {
          "base_uri": "https://localhost:8080/"
        },
        "id": "W-DF5_IxhP8b",
        "outputId": "3ae67dd4-bbf2-4a52-d005-f62fcd3049b6"
      },
      "execution_count": null,
      "outputs": [
        {
          "output_type": "execute_result",
          "data": {
            "text/plain": [
              "(4925, 5)"
            ]
          },
          "metadata": {},
          "execution_count": 42
        }
      ]
    },
    {
      "cell_type": "code",
      "source": [
        "y_temp = np.concatenate((y_train, y_test), axis=0)\n",
        "y_temp.shape"
      ],
      "metadata": {
        "colab": {
          "base_uri": "https://localhost:8080/"
        },
        "id": "QLAnk_oKhn2g",
        "outputId": "adf71d40-cb7f-499d-d5e5-457106968531"
      },
      "execution_count": null,
      "outputs": [
        {
          "output_type": "execute_result",
          "data": {
            "text/plain": [
              "(4925,)"
            ]
          },
          "metadata": {},
          "execution_count": 43
        }
      ]
    },
    {
      "cell_type": "markdown",
      "source": [
        "### RLM"
      ],
      "metadata": {
        "id": "UN30gtg9dg3d"
      }
    },
    {
      "cell_type": "code",
      "source": [
        "parametros_rlm = {'fit_intercept':[True,False], \n",
        "              'copy_X':[True, False]}"
      ],
      "metadata": {
        "id": "rOKWa9X8m-CQ"
      },
      "execution_count": null,
      "outputs": []
    },
    {
      "cell_type": "code",
      "source": [
        "from sklearn.linear_model import LinearRegression\n",
        "grid_search = GridSearchCV(estimator=LinearRegression(), param_grid=parametros_rlm, error_score='raise')\n",
        "grid_search.fit(x_temp, y_temp)\n",
        "melhores_parametros_rlm = grid_search.best_params_\n",
        "melhor_resultado_rlm = grid_search.best_score_\n",
        "print(melhores_parametros_rlm)\n",
        "print(melhor_resultado_rlm)"
      ],
      "metadata": {
        "colab": {
          "base_uri": "https://localhost:8080/"
        },
        "id": "YwSgAN0lnBN3",
        "outputId": "11cb4869-0265-46ba-f34a-51d48a5f993f"
      },
      "execution_count": null,
      "outputs": [
        {
          "output_type": "stream",
          "name": "stdout",
          "text": [
            "{'copy_X': True, 'fit_intercept': True}\n",
            "0.7529749571041797\n"
          ]
        }
      ]
    },
    {
      "cell_type": "markdown",
      "source": [
        "### SVM"
      ],
      "metadata": {
        "id": "47wRyUKNFLNx"
      }
    },
    {
      "cell_type": "code",
      "source": [
        "from sklearn.preprocessing import StandardScaler\n",
        "SdataX = StandardScaler()\n",
        "x_temp_s = SdataX.fit_transform(x_temp)\n",
        "SdataY= StandardScaler()\n",
        "y_temp_r = y_temp.reshape(-1,1)\n",
        "#Transforma de uma matriz para vetor\n",
        "y_temp_s = SdataY.fit_transform(y_temp_r)"
      ],
      "metadata": {
        "id": "M6YWLZN8XYBs"
      },
      "execution_count": null,
      "outputs": []
    },
    {
      "cell_type": "code",
      "source": [
        "parametros_svr = {'tol': [0.001, 0.0001, 0.00001],\n",
        "              'C': [1.0, 1.5, 2.0],\n",
        "              'kernel': ['rbf', 'linear', 'poly', 'sigmoid']}"
      ],
      "metadata": {
        "id": "wV8JdBc7V-aN"
      },
      "execution_count": null,
      "outputs": []
    },
    {
      "cell_type": "code",
      "source": [
        "from sklearn.svm import SVR\n",
        "grid_search = GridSearchCV(estimator=SVR(), param_grid=parametros_svr, error_score='raise')\n",
        "grid_search.fit(x_temp_s, y_temp_s.ravel())\n",
        "melhores_parametros_svr = grid_search.best_params_\n",
        "melhor_resultado_svr = grid_search.best_score_\n",
        "print(melhores_parametros_svr)\n",
        "print(melhor_resultado_svr)"
      ],
      "metadata": {
        "id": "n-A58Io7V339",
        "colab": {
          "base_uri": "https://localhost:8080/"
        },
        "outputId": "5af21fb7-c897-4a7c-d6dd-b3fcd1e178fb"
      },
      "execution_count": null,
      "outputs": [
        {
          "output_type": "stream",
          "name": "stdout",
          "text": [
            "{'C': 2.0, 'kernel': 'rbf', 'tol': 1e-05}\n",
            "0.7842788985980657\n"
          ]
        }
      ]
    },
    {
      "cell_type": "markdown",
      "source": [
        "### RANDOM FOREST"
      ],
      "metadata": {
        "id": "0KQ6uODIiHd3"
      }
    },
    {
      "cell_type": "code",
      "source": [
        "parametros_fa = {'n_estimators': [10, 40, 100, 150],\n",
        "              'min_samples_split': [2, 5, 10],\n",
        "              'min_samples_leaf': [1, 5, 10],\n",
        "              \"max_features\": [\"auto\", \"sqrt\", \"log2\"]}"
      ],
      "metadata": {
        "id": "L1ArjxKxiH1P"
      },
      "execution_count": null,
      "outputs": []
    },
    {
      "cell_type": "code",
      "source": [
        "grid_search = GridSearchCV(estimator=RandomForestRegressor(), param_grid=parametros_fa)\n",
        "grid_search.fit(x_temp, y_temp)\n",
        "melhores_parametros_fa = grid_search.best_params_\n",
        "melhor_resultado_fa = grid_search.best_score_\n",
        "print(melhores_parametros_fa)\n",
        "print(melhor_resultado_fa)"
      ],
      "metadata": {
        "id": "aPNbc3igiXUx",
        "colab": {
          "base_uri": "https://localhost:8080/"
        },
        "outputId": "effbb6b2-86ac-4df1-8915-1e0e7cb05ee1"
      },
      "execution_count": null,
      "outputs": [
        {
          "output_type": "stream",
          "name": "stdout",
          "text": [
            "{'max_features': 'sqrt', 'min_samples_leaf': 1, 'min_samples_split': 10, 'n_estimators': 150}\n",
            "0.7765033948655575\n"
          ]
        }
      ]
    },
    {
      "cell_type": "markdown",
      "source": [
        "### VALIDAÇÃO CRUZADA"
      ],
      "metadata": {
        "id": "YwRBr_q0e2Yy"
      }
    },
    {
      "cell_type": "code",
      "source": [
        "from sklearn.model_selection import cross_val_score, KFold"
      ],
      "metadata": {
        "id": "SAiAI_u4e6i7"
      },
      "execution_count": null,
      "outputs": []
    },
    {
      "cell_type": "code",
      "source": [
        "resultados_random_forest = []\n",
        "resultados_multipla = []\n",
        "resultados_svm = []\n",
        "\n",
        "for i in range(30):\n",
        "  print(i)\n",
        "  kfold = KFold(n_splits=10, shuffle=True, random_state=i)\n",
        "\n",
        "  random_forest = RandomForestRegressor(max_features='sqrt', min_samples_leaf = 1, min_samples_split=10, n_estimators = 150)\n",
        "  scores = cross_val_score(random_forest, x_temp, y_temp, cv = kfold, error_score='raise')\n",
        "  resultados_random_forest.append(scores.mean(), )\n",
        "\n",
        "  multipla = LinearRegression(copy_X=True, fit_intercept=True)\n",
        "  scores = cross_val_score(multipla, x_temp, y_temp, cv = kfold)\n",
        "  resultados_multipla.append(scores.mean())\n",
        "\n",
        "  svm = SVR(tol=0.00001, kernel = 'rbf', C = 2.0)\n",
        "  scores = cross_val_score(svm, x_temp_s, y_temp_s.ravel(), cv = kfold, error_score='raise')\n",
        "  resultados_svm.append(scores.mean())\n"
      ],
      "metadata": {
        "id": "XTOgzlTTe8x0",
        "colab": {
          "base_uri": "https://localhost:8080/"
        },
        "outputId": "6822e560-96d2-488a-d60a-b5f82d9dd7ab"
      },
      "execution_count": null,
      "outputs": [
        {
          "output_type": "stream",
          "name": "stdout",
          "text": [
            "0\n",
            "1\n",
            "2\n",
            "3\n",
            "4\n",
            "5\n",
            "6\n",
            "7\n",
            "8\n",
            "9\n",
            "10\n",
            "11\n",
            "12\n",
            "13\n",
            "14\n",
            "15\n",
            "16\n",
            "17\n",
            "18\n",
            "19\n",
            "20\n",
            "21\n",
            "22\n",
            "23\n",
            "24\n",
            "25\n",
            "26\n",
            "27\n",
            "28\n",
            "29\n"
          ]
        }
      ]
    },
    {
      "cell_type": "code",
      "source": [
        "resultados = pd.DataFrame({'FA': resultados_random_forest,\n",
        "                           'RML': resultados_multipla,\n",
        "                           'MSV': resultados_svm})\n",
        "resultados"
      ],
      "metadata": {
        "colab": {
          "base_uri": "https://localhost:8080/",
          "height": 990
        },
        "id": "72aVVq9thQVB",
        "outputId": "9a7089f5-592a-4ddd-d3fb-b3b0830e21ac"
      },
      "execution_count": null,
      "outputs": [
        {
          "output_type": "execute_result",
          "data": {
            "text/plain": [
              "          FA       RML       MSV\n",
              "0   0.775082  0.752723  0.784550\n",
              "1   0.774426  0.752442  0.785285\n",
              "2   0.776589  0.753181  0.785118\n",
              "3   0.775793  0.752226  0.784179\n",
              "4   0.776949  0.752838  0.784599\n",
              "5   0.777126  0.752792  0.785289\n",
              "6   0.776910  0.752750  0.785144\n",
              "7   0.776339  0.752417  0.785109\n",
              "8   0.777990  0.752260  0.784910\n",
              "9   0.777128  0.752507  0.784121\n",
              "10  0.776308  0.752741  0.784578\n",
              "11  0.776201  0.752869  0.785645\n",
              "12  0.775765  0.752923  0.785030\n",
              "13  0.778224  0.753046  0.785835\n",
              "14  0.778773  0.752647  0.786084\n",
              "15  0.776969  0.753033  0.785487\n",
              "16  0.777894  0.753162  0.785148\n",
              "17  0.775118  0.752959  0.784796\n",
              "18  0.777287  0.752698  0.785380\n",
              "19  0.778001  0.752945  0.785614\n",
              "20  0.778396  0.752463  0.785171\n",
              "21  0.777326  0.752687  0.785224\n",
              "22  0.776332  0.753074  0.785825\n",
              "23  0.775424  0.752762  0.784059\n",
              "24  0.777832  0.753253  0.785054\n",
              "25  0.778105  0.753059  0.785602\n",
              "26  0.775697  0.753091  0.784987\n",
              "27  0.777875  0.753208  0.784895\n",
              "28  0.776849  0.752601  0.784733\n",
              "29  0.776126  0.753082  0.785093"
            ],
            "text/html": [
              "\n",
              "  <div id=\"df-58f73040-1b21-402a-92ec-fbbf8632b8c2\">\n",
              "    <div class=\"colab-df-container\">\n",
              "      <div>\n",
              "<style scoped>\n",
              "    .dataframe tbody tr th:only-of-type {\n",
              "        vertical-align: middle;\n",
              "    }\n",
              "\n",
              "    .dataframe tbody tr th {\n",
              "        vertical-align: top;\n",
              "    }\n",
              "\n",
              "    .dataframe thead th {\n",
              "        text-align: right;\n",
              "    }\n",
              "</style>\n",
              "<table border=\"1\" class=\"dataframe\">\n",
              "  <thead>\n",
              "    <tr style=\"text-align: right;\">\n",
              "      <th></th>\n",
              "      <th>FA</th>\n",
              "      <th>RML</th>\n",
              "      <th>MSV</th>\n",
              "    </tr>\n",
              "  </thead>\n",
              "  <tbody>\n",
              "    <tr>\n",
              "      <th>0</th>\n",
              "      <td>0.775082</td>\n",
              "      <td>0.752723</td>\n",
              "      <td>0.784550</td>\n",
              "    </tr>\n",
              "    <tr>\n",
              "      <th>1</th>\n",
              "      <td>0.774426</td>\n",
              "      <td>0.752442</td>\n",
              "      <td>0.785285</td>\n",
              "    </tr>\n",
              "    <tr>\n",
              "      <th>2</th>\n",
              "      <td>0.776589</td>\n",
              "      <td>0.753181</td>\n",
              "      <td>0.785118</td>\n",
              "    </tr>\n",
              "    <tr>\n",
              "      <th>3</th>\n",
              "      <td>0.775793</td>\n",
              "      <td>0.752226</td>\n",
              "      <td>0.784179</td>\n",
              "    </tr>\n",
              "    <tr>\n",
              "      <th>4</th>\n",
              "      <td>0.776949</td>\n",
              "      <td>0.752838</td>\n",
              "      <td>0.784599</td>\n",
              "    </tr>\n",
              "    <tr>\n",
              "      <th>5</th>\n",
              "      <td>0.777126</td>\n",
              "      <td>0.752792</td>\n",
              "      <td>0.785289</td>\n",
              "    </tr>\n",
              "    <tr>\n",
              "      <th>6</th>\n",
              "      <td>0.776910</td>\n",
              "      <td>0.752750</td>\n",
              "      <td>0.785144</td>\n",
              "    </tr>\n",
              "    <tr>\n",
              "      <th>7</th>\n",
              "      <td>0.776339</td>\n",
              "      <td>0.752417</td>\n",
              "      <td>0.785109</td>\n",
              "    </tr>\n",
              "    <tr>\n",
              "      <th>8</th>\n",
              "      <td>0.777990</td>\n",
              "      <td>0.752260</td>\n",
              "      <td>0.784910</td>\n",
              "    </tr>\n",
              "    <tr>\n",
              "      <th>9</th>\n",
              "      <td>0.777128</td>\n",
              "      <td>0.752507</td>\n",
              "      <td>0.784121</td>\n",
              "    </tr>\n",
              "    <tr>\n",
              "      <th>10</th>\n",
              "      <td>0.776308</td>\n",
              "      <td>0.752741</td>\n",
              "      <td>0.784578</td>\n",
              "    </tr>\n",
              "    <tr>\n",
              "      <th>11</th>\n",
              "      <td>0.776201</td>\n",
              "      <td>0.752869</td>\n",
              "      <td>0.785645</td>\n",
              "    </tr>\n",
              "    <tr>\n",
              "      <th>12</th>\n",
              "      <td>0.775765</td>\n",
              "      <td>0.752923</td>\n",
              "      <td>0.785030</td>\n",
              "    </tr>\n",
              "    <tr>\n",
              "      <th>13</th>\n",
              "      <td>0.778224</td>\n",
              "      <td>0.753046</td>\n",
              "      <td>0.785835</td>\n",
              "    </tr>\n",
              "    <tr>\n",
              "      <th>14</th>\n",
              "      <td>0.778773</td>\n",
              "      <td>0.752647</td>\n",
              "      <td>0.786084</td>\n",
              "    </tr>\n",
              "    <tr>\n",
              "      <th>15</th>\n",
              "      <td>0.776969</td>\n",
              "      <td>0.753033</td>\n",
              "      <td>0.785487</td>\n",
              "    </tr>\n",
              "    <tr>\n",
              "      <th>16</th>\n",
              "      <td>0.777894</td>\n",
              "      <td>0.753162</td>\n",
              "      <td>0.785148</td>\n",
              "    </tr>\n",
              "    <tr>\n",
              "      <th>17</th>\n",
              "      <td>0.775118</td>\n",
              "      <td>0.752959</td>\n",
              "      <td>0.784796</td>\n",
              "    </tr>\n",
              "    <tr>\n",
              "      <th>18</th>\n",
              "      <td>0.777287</td>\n",
              "      <td>0.752698</td>\n",
              "      <td>0.785380</td>\n",
              "    </tr>\n",
              "    <tr>\n",
              "      <th>19</th>\n",
              "      <td>0.778001</td>\n",
              "      <td>0.752945</td>\n",
              "      <td>0.785614</td>\n",
              "    </tr>\n",
              "    <tr>\n",
              "      <th>20</th>\n",
              "      <td>0.778396</td>\n",
              "      <td>0.752463</td>\n",
              "      <td>0.785171</td>\n",
              "    </tr>\n",
              "    <tr>\n",
              "      <th>21</th>\n",
              "      <td>0.777326</td>\n",
              "      <td>0.752687</td>\n",
              "      <td>0.785224</td>\n",
              "    </tr>\n",
              "    <tr>\n",
              "      <th>22</th>\n",
              "      <td>0.776332</td>\n",
              "      <td>0.753074</td>\n",
              "      <td>0.785825</td>\n",
              "    </tr>\n",
              "    <tr>\n",
              "      <th>23</th>\n",
              "      <td>0.775424</td>\n",
              "      <td>0.752762</td>\n",
              "      <td>0.784059</td>\n",
              "    </tr>\n",
              "    <tr>\n",
              "      <th>24</th>\n",
              "      <td>0.777832</td>\n",
              "      <td>0.753253</td>\n",
              "      <td>0.785054</td>\n",
              "    </tr>\n",
              "    <tr>\n",
              "      <th>25</th>\n",
              "      <td>0.778105</td>\n",
              "      <td>0.753059</td>\n",
              "      <td>0.785602</td>\n",
              "    </tr>\n",
              "    <tr>\n",
              "      <th>26</th>\n",
              "      <td>0.775697</td>\n",
              "      <td>0.753091</td>\n",
              "      <td>0.784987</td>\n",
              "    </tr>\n",
              "    <tr>\n",
              "      <th>27</th>\n",
              "      <td>0.777875</td>\n",
              "      <td>0.753208</td>\n",
              "      <td>0.784895</td>\n",
              "    </tr>\n",
              "    <tr>\n",
              "      <th>28</th>\n",
              "      <td>0.776849</td>\n",
              "      <td>0.752601</td>\n",
              "      <td>0.784733</td>\n",
              "    </tr>\n",
              "    <tr>\n",
              "      <th>29</th>\n",
              "      <td>0.776126</td>\n",
              "      <td>0.753082</td>\n",
              "      <td>0.785093</td>\n",
              "    </tr>\n",
              "  </tbody>\n",
              "</table>\n",
              "</div>\n",
              "      <button class=\"colab-df-convert\" onclick=\"convertToInteractive('df-58f73040-1b21-402a-92ec-fbbf8632b8c2')\"\n",
              "              title=\"Convert this dataframe to an interactive table.\"\n",
              "              style=\"display:none;\">\n",
              "        \n",
              "  <svg xmlns=\"http://www.w3.org/2000/svg\" height=\"24px\"viewBox=\"0 0 24 24\"\n",
              "       width=\"24px\">\n",
              "    <path d=\"M0 0h24v24H0V0z\" fill=\"none\"/>\n",
              "    <path d=\"M18.56 5.44l.94 2.06.94-2.06 2.06-.94-2.06-.94-.94-2.06-.94 2.06-2.06.94zm-11 1L8.5 8.5l.94-2.06 2.06-.94-2.06-.94L8.5 2.5l-.94 2.06-2.06.94zm10 10l.94 2.06.94-2.06 2.06-.94-2.06-.94-.94-2.06-.94 2.06-2.06.94z\"/><path d=\"M17.41 7.96l-1.37-1.37c-.4-.4-.92-.59-1.43-.59-.52 0-1.04.2-1.43.59L10.3 9.45l-7.72 7.72c-.78.78-.78 2.05 0 2.83L4 21.41c.39.39.9.59 1.41.59.51 0 1.02-.2 1.41-.59l7.78-7.78 2.81-2.81c.8-.78.8-2.07 0-2.86zM5.41 20L4 18.59l7.72-7.72 1.47 1.35L5.41 20z\"/>\n",
              "  </svg>\n",
              "      </button>\n",
              "      \n",
              "  <style>\n",
              "    .colab-df-container {\n",
              "      display:flex;\n",
              "      flex-wrap:wrap;\n",
              "      gap: 12px;\n",
              "    }\n",
              "\n",
              "    .colab-df-convert {\n",
              "      background-color: #E8F0FE;\n",
              "      border: none;\n",
              "      border-radius: 50%;\n",
              "      cursor: pointer;\n",
              "      display: none;\n",
              "      fill: #1967D2;\n",
              "      height: 32px;\n",
              "      padding: 0 0 0 0;\n",
              "      width: 32px;\n",
              "    }\n",
              "\n",
              "    .colab-df-convert:hover {\n",
              "      background-color: #E2EBFA;\n",
              "      box-shadow: 0px 1px 2px rgba(60, 64, 67, 0.3), 0px 1px 3px 1px rgba(60, 64, 67, 0.15);\n",
              "      fill: #174EA6;\n",
              "    }\n",
              "\n",
              "    [theme=dark] .colab-df-convert {\n",
              "      background-color: #3B4455;\n",
              "      fill: #D2E3FC;\n",
              "    }\n",
              "\n",
              "    [theme=dark] .colab-df-convert:hover {\n",
              "      background-color: #434B5C;\n",
              "      box-shadow: 0px 1px 3px 1px rgba(0, 0, 0, 0.15);\n",
              "      filter: drop-shadow(0px 1px 2px rgba(0, 0, 0, 0.3));\n",
              "      fill: #FFFFFF;\n",
              "    }\n",
              "  </style>\n",
              "\n",
              "      <script>\n",
              "        const buttonEl =\n",
              "          document.querySelector('#df-58f73040-1b21-402a-92ec-fbbf8632b8c2 button.colab-df-convert');\n",
              "        buttonEl.style.display =\n",
              "          google.colab.kernel.accessAllowed ? 'block' : 'none';\n",
              "\n",
              "        async function convertToInteractive(key) {\n",
              "          const element = document.querySelector('#df-58f73040-1b21-402a-92ec-fbbf8632b8c2');\n",
              "          const dataTable =\n",
              "            await google.colab.kernel.invokeFunction('convertToInteractive',\n",
              "                                                     [key], {});\n",
              "          if (!dataTable) return;\n",
              "\n",
              "          const docLinkHtml = 'Like what you see? Visit the ' +\n",
              "            '<a target=\"_blank\" href=https://colab.research.google.com/notebooks/data_table.ipynb>data table notebook</a>'\n",
              "            + ' to learn more about interactive tables.';\n",
              "          element.innerHTML = '';\n",
              "          dataTable['output_type'] = 'display_data';\n",
              "          await google.colab.output.renderOutput(dataTable, element);\n",
              "          const docLink = document.createElement('div');\n",
              "          docLink.innerHTML = docLinkHtml;\n",
              "          element.appendChild(docLink);\n",
              "        }\n",
              "      </script>\n",
              "    </div>\n",
              "  </div>\n",
              "  "
            ]
          },
          "metadata": {},
          "execution_count": 152
        }
      ]
    },
    {
      "cell_type": "code",
      "source": [
        "resultados.describe()"
      ],
      "metadata": {
        "colab": {
          "base_uri": "https://localhost:8080/",
          "height": 300
        },
        "id": "5zVckZBuq2V6",
        "outputId": "4714a3e0-826f-4b39-bddb-54cb562d58f0"
      },
      "execution_count": null,
      "outputs": [
        {
          "output_type": "execute_result",
          "data": {
            "text/plain": [
              "              FA        RML        MSV\n",
              "count  30.000000  30.000000  30.000000\n",
              "mean    0.776828   0.752815   0.785085\n",
              "std     0.001104   0.000283   0.000498\n",
              "min     0.774426   0.752226   0.784059\n",
              "25%     0.776145   0.752657   0.784821\n",
              "50%     0.776930   0.752815   0.785113\n",
              "75%     0.777864   0.753055   0.785358\n",
              "max     0.778773   0.753253   0.786084"
            ],
            "text/html": [
              "\n",
              "  <div id=\"df-e7be2fe9-36bb-438b-8f82-a0e38eed90b6\">\n",
              "    <div class=\"colab-df-container\">\n",
              "      <div>\n",
              "<style scoped>\n",
              "    .dataframe tbody tr th:only-of-type {\n",
              "        vertical-align: middle;\n",
              "    }\n",
              "\n",
              "    .dataframe tbody tr th {\n",
              "        vertical-align: top;\n",
              "    }\n",
              "\n",
              "    .dataframe thead th {\n",
              "        text-align: right;\n",
              "    }\n",
              "</style>\n",
              "<table border=\"1\" class=\"dataframe\">\n",
              "  <thead>\n",
              "    <tr style=\"text-align: right;\">\n",
              "      <th></th>\n",
              "      <th>FA</th>\n",
              "      <th>RML</th>\n",
              "      <th>MSV</th>\n",
              "    </tr>\n",
              "  </thead>\n",
              "  <tbody>\n",
              "    <tr>\n",
              "      <th>count</th>\n",
              "      <td>30.000000</td>\n",
              "      <td>30.000000</td>\n",
              "      <td>30.000000</td>\n",
              "    </tr>\n",
              "    <tr>\n",
              "      <th>mean</th>\n",
              "      <td>0.776828</td>\n",
              "      <td>0.752815</td>\n",
              "      <td>0.785085</td>\n",
              "    </tr>\n",
              "    <tr>\n",
              "      <th>std</th>\n",
              "      <td>0.001104</td>\n",
              "      <td>0.000283</td>\n",
              "      <td>0.000498</td>\n",
              "    </tr>\n",
              "    <tr>\n",
              "      <th>min</th>\n",
              "      <td>0.774426</td>\n",
              "      <td>0.752226</td>\n",
              "      <td>0.784059</td>\n",
              "    </tr>\n",
              "    <tr>\n",
              "      <th>25%</th>\n",
              "      <td>0.776145</td>\n",
              "      <td>0.752657</td>\n",
              "      <td>0.784821</td>\n",
              "    </tr>\n",
              "    <tr>\n",
              "      <th>50%</th>\n",
              "      <td>0.776930</td>\n",
              "      <td>0.752815</td>\n",
              "      <td>0.785113</td>\n",
              "    </tr>\n",
              "    <tr>\n",
              "      <th>75%</th>\n",
              "      <td>0.777864</td>\n",
              "      <td>0.753055</td>\n",
              "      <td>0.785358</td>\n",
              "    </tr>\n",
              "    <tr>\n",
              "      <th>max</th>\n",
              "      <td>0.778773</td>\n",
              "      <td>0.753253</td>\n",
              "      <td>0.786084</td>\n",
              "    </tr>\n",
              "  </tbody>\n",
              "</table>\n",
              "</div>\n",
              "      <button class=\"colab-df-convert\" onclick=\"convertToInteractive('df-e7be2fe9-36bb-438b-8f82-a0e38eed90b6')\"\n",
              "              title=\"Convert this dataframe to an interactive table.\"\n",
              "              style=\"display:none;\">\n",
              "        \n",
              "  <svg xmlns=\"http://www.w3.org/2000/svg\" height=\"24px\"viewBox=\"0 0 24 24\"\n",
              "       width=\"24px\">\n",
              "    <path d=\"M0 0h24v24H0V0z\" fill=\"none\"/>\n",
              "    <path d=\"M18.56 5.44l.94 2.06.94-2.06 2.06-.94-2.06-.94-.94-2.06-.94 2.06-2.06.94zm-11 1L8.5 8.5l.94-2.06 2.06-.94-2.06-.94L8.5 2.5l-.94 2.06-2.06.94zm10 10l.94 2.06.94-2.06 2.06-.94-2.06-.94-.94-2.06-.94 2.06-2.06.94z\"/><path d=\"M17.41 7.96l-1.37-1.37c-.4-.4-.92-.59-1.43-.59-.52 0-1.04.2-1.43.59L10.3 9.45l-7.72 7.72c-.78.78-.78 2.05 0 2.83L4 21.41c.39.39.9.59 1.41.59.51 0 1.02-.2 1.41-.59l7.78-7.78 2.81-2.81c.8-.78.8-2.07 0-2.86zM5.41 20L4 18.59l7.72-7.72 1.47 1.35L5.41 20z\"/>\n",
              "  </svg>\n",
              "      </button>\n",
              "      \n",
              "  <style>\n",
              "    .colab-df-container {\n",
              "      display:flex;\n",
              "      flex-wrap:wrap;\n",
              "      gap: 12px;\n",
              "    }\n",
              "\n",
              "    .colab-df-convert {\n",
              "      background-color: #E8F0FE;\n",
              "      border: none;\n",
              "      border-radius: 50%;\n",
              "      cursor: pointer;\n",
              "      display: none;\n",
              "      fill: #1967D2;\n",
              "      height: 32px;\n",
              "      padding: 0 0 0 0;\n",
              "      width: 32px;\n",
              "    }\n",
              "\n",
              "    .colab-df-convert:hover {\n",
              "      background-color: #E2EBFA;\n",
              "      box-shadow: 0px 1px 2px rgba(60, 64, 67, 0.3), 0px 1px 3px 1px rgba(60, 64, 67, 0.15);\n",
              "      fill: #174EA6;\n",
              "    }\n",
              "\n",
              "    [theme=dark] .colab-df-convert {\n",
              "      background-color: #3B4455;\n",
              "      fill: #D2E3FC;\n",
              "    }\n",
              "\n",
              "    [theme=dark] .colab-df-convert:hover {\n",
              "      background-color: #434B5C;\n",
              "      box-shadow: 0px 1px 3px 1px rgba(0, 0, 0, 0.15);\n",
              "      filter: drop-shadow(0px 1px 2px rgba(0, 0, 0, 0.3));\n",
              "      fill: #FFFFFF;\n",
              "    }\n",
              "  </style>\n",
              "\n",
              "      <script>\n",
              "        const buttonEl =\n",
              "          document.querySelector('#df-e7be2fe9-36bb-438b-8f82-a0e38eed90b6 button.colab-df-convert');\n",
              "        buttonEl.style.display =\n",
              "          google.colab.kernel.accessAllowed ? 'block' : 'none';\n",
              "\n",
              "        async function convertToInteractive(key) {\n",
              "          const element = document.querySelector('#df-e7be2fe9-36bb-438b-8f82-a0e38eed90b6');\n",
              "          const dataTable =\n",
              "            await google.colab.kernel.invokeFunction('convertToInteractive',\n",
              "                                                     [key], {});\n",
              "          if (!dataTable) return;\n",
              "\n",
              "          const docLinkHtml = 'Like what you see? Visit the ' +\n",
              "            '<a target=\"_blank\" href=https://colab.research.google.com/notebooks/data_table.ipynb>data table notebook</a>'\n",
              "            + ' to learn more about interactive tables.';\n",
              "          element.innerHTML = '';\n",
              "          dataTable['output_type'] = 'display_data';\n",
              "          await google.colab.output.renderOutput(dataTable, element);\n",
              "          const docLink = document.createElement('div');\n",
              "          docLink.innerHTML = docLinkHtml;\n",
              "          element.appendChild(docLink);\n",
              "        }\n",
              "      </script>\n",
              "    </div>\n",
              "  </div>\n",
              "  "
            ]
          },
          "metadata": {},
          "execution_count": 153
        }
      ]
    },
    {
      "cell_type": "code",
      "source": [
        "(resultados.std() / resultados.mean()) * 100"
      ],
      "metadata": {
        "colab": {
          "base_uri": "https://localhost:8080/"
        },
        "id": "tWcINlIIrDlj",
        "outputId": "707f01ad-fc35-41b5-ade0-4bf105d243bd"
      },
      "execution_count": null,
      "outputs": [
        {
          "output_type": "execute_result",
          "data": {
            "text/plain": [
              "FA     0.142133\n",
              "RML    0.037610\n",
              "MSV    0.063489\n",
              "dtype: float64"
            ]
          },
          "metadata": {},
          "execution_count": 154
        }
      ]
    },
    {
      "cell_type": "markdown",
      "source": [
        "### TESTE DE NORMALIDADE"
      ],
      "metadata": {
        "id": "nNi9xy5frwpm"
      }
    },
    {
      "cell_type": "code",
      "source": [
        "alpha=0.5"
      ],
      "metadata": {
        "id": "07PsX2WbrV55"
      },
      "execution_count": null,
      "outputs": []
    },
    {
      "cell_type": "code",
      "source": [
        "from scipy.stats  import shapiro"
      ],
      "metadata": {
        "id": "70E2X8Ohrzwr"
      },
      "execution_count": null,
      "outputs": []
    },
    {
      "cell_type": "code",
      "metadata": {
        "id": "WAwEoVkXSK_m",
        "colab": {
          "base_uri": "https://localhost:8080/"
        },
        "outputId": "a53e8e03-76fb-46ed-ced0-abc20b9ff63b"
      },
      "source": [
        "shapiro(resultados_random_forest), shapiro(resultados_multipla), shapiro(resultados_svm)"
      ],
      "execution_count": null,
      "outputs": [
        {
          "output_type": "execute_result",
          "data": {
            "text/plain": [
              "((0.9755390882492065, 0.6986150145530701),\n",
              " (0.961087167263031, 0.3301452398300171),\n",
              " (0.9752053022384644, 0.6887798309326172))"
            ]
          },
          "metadata": {},
          "execution_count": 157
        }
      ]
    },
    {
      "cell_type": "markdown",
      "source": [
        "p<=0,05 - não são normais\n",
        "p>0,05\n",
        "Todos são normais."
      ],
      "metadata": {
        "id": "Doj77c7psVSp"
      }
    },
    {
      "cell_type": "code",
      "source": [
        "#from scipy.stats import laplace\n",
        "import matplotlib.pyplot as plt\n",
        "fig, ax = plt.subplots(ncols=3, nrows=1, figsize=(10,5), constrained_layout=True)#, sharex=True)\n",
        "#fig.suptitle('TESTE DE NORMALIDADE', y=1.07, fontsize=20)\n",
        "\n",
        "ax[0].set_ylabel('Densidade')\n",
        "ax[1].set_ylabel('Densidade')\n",
        "ax[2].set_ylabel('Densidade')\n",
        "\n",
        "#Nuvens Baixas\n",
        "sns.kdeplot(resultados_random_forest, ax=ax[0]).set_title('FA', fontsize=15)\n",
        "sns.kdeplot(resultados_multipla, ax=ax[1]).set_title('RLM', fontsize=15)\n",
        "sns.kdeplot(resultados_svm, ax=ax[2]).set_title('MSV', fontsize=15)\n",
        "\n",
        "\n",
        "plt.savefig('/content/drive/MyDrive/tcc/shap.png', bbox_inches='tight')"
      ],
      "metadata": {
        "colab": {
          "base_uri": "https://localhost:8080/",
          "height": 385
        },
        "id": "kC2_wW2BtBUD",
        "outputId": "f571a5e1-10c9-48ef-fc04-75097a87816e"
      },
      "execution_count": null,
      "outputs": [
        {
          "output_type": "display_data",
          "data": {
            "text/plain": [
              "<Figure size 720x360 with 3 Axes>"
            ],
            "image/png": "[encoded data removed]"
          },
          "metadata": {
            "needs_background": "light"
          }
        }
      ]
    },
    {
      "cell_type": "markdown",
      "source": [
        "### ANOVA E TUKEY"
      ],
      "metadata": {
        "id": "bqhpiscUxuKI"
      }
    },
    {
      "cell_type": "code",
      "source": [
        "from scipy.stats import f_oneway"
      ],
      "metadata": {
        "id": "utSriWWFxsmg"
      },
      "execution_count": null,
      "outputs": []
    },
    {
      "cell_type": "code",
      "source": [
        "_, p = f_oneway(resultados_random_forest, resultados_multipla, resultados_svm)\n",
        "p"
      ],
      "metadata": {
        "colab": {
          "base_uri": "https://localhost:8080/"
        },
        "id": "iF191hH0ymHn",
        "outputId": "c651ea30-56bb-448d-fe8c-919663db5d7f"
      },
      "execution_count": null,
      "outputs": [
        {
          "output_type": "execute_result",
          "data": {
            "text/plain": [
              "4.714764857516835e-115"
            ]
          },
          "metadata": {},
          "execution_count": 127
        }
      ]
    },
    {
      "cell_type": "code",
      "source": [
        "alpha = 0.05\n",
        "if p <= alpha:\n",
        "  print('Hipótese nula rejeitada. Dados são diferentes')\n",
        "else:\n",
        "  print('Hipótese alternativa rejeitada. Resultados são iguais')"
      ],
      "metadata": {
        "colab": {
          "base_uri": "https://localhost:8080/"
        },
        "id": "WQefH6iWyw10",
        "outputId": "0a68b7b7-9d64-4728-b21f-7068e398a038"
      },
      "execution_count": null,
      "outputs": [
        {
          "output_type": "stream",
          "name": "stdout",
          "text": [
            "Hipótese nula rejeitada. Dados são diferentes\n"
          ]
        }
      ]
    },
    {
      "cell_type": "code",
      "source": [
        "resultados_algoritmos = {'accuracy': np.concatenate([resultados_random_forest, resultados_multipla, resultados_svm]),\n",
        "                         'algoritmo': ['random_forest','random_forest','random_forest','random_forest','random_forest','random_forest','random_forest','random_forest','random_forest','random_forest','random_forest','random_forest','random_forest','random_forest','random_forest','random_forest','random_forest','random_forest','random_forest','random_forest','random_forest','random_forest','random_forest','random_forest','random_forest','random_forest','random_forest','random_forest','random_forest','random_forest', \n",
        "                          'svm','svm','svm','svm','svm','svm','svm','svm','svm','svm','svm','svm','svm','svm','svm','svm','svm','svm','svm','svm','svm','svm','svm','svm','svm','svm','svm','svm','svm','svm',\n",
        "                          'multipla','multipla','multipla','multipla','multipla','multipla','multipla','multipla','multipla','multipla','multipla','multipla','multipla','multipla','multipla','multipla','multipla','multipla','multipla','multipla','multipla','multipla','multipla','multipla','multipla','multipla','multipla','multipla','multipla','multipla']}"
      ],
      "metadata": {
        "id": "bazlD6c20IqI"
      },
      "execution_count": null,
      "outputs": []
    },
    {
      "cell_type": "code",
      "source": [
        "resultados_df = pd.DataFrame(resultados_algoritmos)\n",
        "resultados_df"
      ],
      "metadata": {
        "colab": {
          "base_uri": "https://localhost:8080/",
          "height": 424
        },
        "id": "3hEhYs0t0Z-r",
        "outputId": "68130632-b2fd-4c0d-d923-0fa9872d55d6"
      },
      "execution_count": null,
      "outputs": [
        {
          "output_type": "execute_result",
          "data": {
            "text/plain": [
              "    accuracy      algoritmo\n",
              "0   0.775450  random_forest\n",
              "1   0.775401  random_forest\n",
              "2   0.776739  random_forest\n",
              "3   0.775697  random_forest\n",
              "4   0.776792  random_forest\n",
              "..       ...            ...\n",
              "85  0.785602       multipla\n",
              "86  0.784987       multipla\n",
              "87  0.784895       multipla\n",
              "88  0.784733       multipla\n",
              "89  0.785093       multipla\n",
              "\n",
              "[90 rows x 2 columns]"
            ],
            "text/html": [
              "\n",
              "  <div id=\"df-97b36b9c-3c29-4954-8ac7-ad0b2e2d0d5a\">\n",
              "    <div class=\"colab-df-container\">\n",
              "      <div>\n",
              "<style scoped>\n",
              "    .dataframe tbody tr th:only-of-type {\n",
              "        vertical-align: middle;\n",
              "    }\n",
              "\n",
              "    .dataframe tbody tr th {\n",
              "        vertical-align: top;\n",
              "    }\n",
              "\n",
              "    .dataframe thead th {\n",
              "        text-align: right;\n",
              "    }\n",
              "</style>\n",
              "<table border=\"1\" class=\"dataframe\">\n",
              "  <thead>\n",
              "    <tr style=\"text-align: right;\">\n",
              "      <th></th>\n",
              "      <th>accuracy</th>\n",
              "      <th>algoritmo</th>\n",
              "    </tr>\n",
              "  </thead>\n",
              "  <tbody>\n",
              "    <tr>\n",
              "      <th>0</th>\n",
              "      <td>0.775450</td>\n",
              "      <td>random_forest</td>\n",
              "    </tr>\n",
              "    <tr>\n",
              "      <th>1</th>\n",
              "      <td>0.775401</td>\n",
              "      <td>random_forest</td>\n",
              "    </tr>\n",
              "    <tr>\n",
              "      <th>2</th>\n",
              "      <td>0.776739</td>\n",
              "      <td>random_forest</td>\n",
              "    </tr>\n",
              "    <tr>\n",
              "      <th>3</th>\n",
              "      <td>0.775697</td>\n",
              "      <td>random_forest</td>\n",
              "    </tr>\n",
              "    <tr>\n",
              "      <th>4</th>\n",
              "      <td>0.776792</td>\n",
              "      <td>random_forest</td>\n",
              "    </tr>\n",
              "    <tr>\n",
              "      <th>...</th>\n",
              "      <td>...</td>\n",
              "      <td>...</td>\n",
              "    </tr>\n",
              "    <tr>\n",
              "      <th>85</th>\n",
              "      <td>0.785602</td>\n",
              "      <td>multipla</td>\n",
              "    </tr>\n",
              "    <tr>\n",
              "      <th>86</th>\n",
              "      <td>0.784987</td>\n",
              "      <td>multipla</td>\n",
              "    </tr>\n",
              "    <tr>\n",
              "      <th>87</th>\n",
              "      <td>0.784895</td>\n",
              "      <td>multipla</td>\n",
              "    </tr>\n",
              "    <tr>\n",
              "      <th>88</th>\n",
              "      <td>0.784733</td>\n",
              "      <td>multipla</td>\n",
              "    </tr>\n",
              "    <tr>\n",
              "      <th>89</th>\n",
              "      <td>0.785093</td>\n",
              "      <td>multipla</td>\n",
              "    </tr>\n",
              "  </tbody>\n",
              "</table>\n",
              "<p>90 rows × 2 columns</p>\n",
              "</div>\n",
              "      <button class=\"colab-df-convert\" onclick=\"convertToInteractive('df-97b36b9c-3c29-4954-8ac7-ad0b2e2d0d5a')\"\n",
              "              title=\"Convert this dataframe to an interactive table.\"\n",
              "              style=\"display:none;\">\n",
              "        \n",
              "  <svg xmlns=\"http://www.w3.org/2000/svg\" height=\"24px\"viewBox=\"0 0 24 24\"\n",
              "       width=\"24px\">\n",
              "    <path d=\"M0 0h24v24H0V0z\" fill=\"none\"/>\n",
              "    <path d=\"M18.56 5.44l.94 2.06.94-2.06 2.06-.94-2.06-.94-.94-2.06-.94 2.06-2.06.94zm-11 1L8.5 8.5l.94-2.06 2.06-.94-2.06-.94L8.5 2.5l-.94 2.06-2.06.94zm10 10l.94 2.06.94-2.06 2.06-.94-2.06-.94-.94-2.06-.94 2.06-2.06.94z\"/><path d=\"M17.41 7.96l-1.37-1.37c-.4-.4-.92-.59-1.43-.59-.52 0-1.04.2-1.43.59L10.3 9.45l-7.72 7.72c-.78.78-.78 2.05 0 2.83L4 21.41c.39.39.9.59 1.41.59.51 0 1.02-.2 1.41-.59l7.78-7.78 2.81-2.81c.8-.78.8-2.07 0-2.86zM5.41 20L4 18.59l7.72-7.72 1.47 1.35L5.41 20z\"/>\n",
              "  </svg>\n",
              "      </button>\n",
              "      \n",
              "  <style>\n",
              "    .colab-df-container {\n",
              "      display:flex;\n",
              "      flex-wrap:wrap;\n",
              "      gap: 12px;\n",
              "    }\n",
              "\n",
              "    .colab-df-convert {\n",
              "      background-color: #E8F0FE;\n",
              "      border: none;\n",
              "      border-radius: 50%;\n",
              "      cursor: pointer;\n",
              "      display: none;\n",
              "      fill: #1967D2;\n",
              "      height: 32px;\n",
              "      padding: 0 0 0 0;\n",
              "      width: 32px;\n",
              "    }\n",
              "\n",
              "    .colab-df-convert:hover {\n",
              "      background-color: #E2EBFA;\n",
              "      box-shadow: 0px 1px 2px rgba(60, 64, 67, 0.3), 0px 1px 3px 1px rgba(60, 64, 67, 0.15);\n",
              "      fill: #174EA6;\n",
              "    }\n",
              "\n",
              "    [theme=dark] .colab-df-convert {\n",
              "      background-color: #3B4455;\n",
              "      fill: #D2E3FC;\n",
              "    }\n",
              "\n",
              "    [theme=dark] .colab-df-convert:hover {\n",
              "      background-color: #434B5C;\n",
              "      box-shadow: 0px 1px 3px 1px rgba(0, 0, 0, 0.15);\n",
              "      filter: drop-shadow(0px 1px 2px rgba(0, 0, 0, 0.3));\n",
              "      fill: #FFFFFF;\n",
              "    }\n",
              "  </style>\n",
              "\n",
              "      <script>\n",
              "        const buttonEl =\n",
              "          document.querySelector('#df-97b36b9c-3c29-4954-8ac7-ad0b2e2d0d5a button.colab-df-convert');\n",
              "        buttonEl.style.display =\n",
              "          google.colab.kernel.accessAllowed ? 'block' : 'none';\n",
              "\n",
              "        async function convertToInteractive(key) {\n",
              "          const element = document.querySelector('#df-97b36b9c-3c29-4954-8ac7-ad0b2e2d0d5a');\n",
              "          const dataTable =\n",
              "            await google.colab.kernel.invokeFunction('convertToInteractive',\n",
              "                                                     [key], {});\n",
              "          if (!dataTable) return;\n",
              "\n",
              "          const docLinkHtml = 'Like what you see? Visit the ' +\n",
              "            '<a target=\"_blank\" href=https://colab.research.google.com/notebooks/data_table.ipynb>data table notebook</a>'\n",
              "            + ' to learn more about interactive tables.';\n",
              "          element.innerHTML = '';\n",
              "          dataTable['output_type'] = 'display_data';\n",
              "          await google.colab.output.renderOutput(dataTable, element);\n",
              "          const docLink = document.createElement('div');\n",
              "          docLink.innerHTML = docLinkHtml;\n",
              "          element.appendChild(docLink);\n",
              "        }\n",
              "      </script>\n",
              "    </div>\n",
              "  </div>\n",
              "  "
            ]
          },
          "metadata": {},
          "execution_count": 130
        }
      ]
    },
    {
      "cell_type": "code",
      "source": [
        "from statsmodels.stats.multicomp import MultiComparison\n",
        "from pandas.testing import assert_frame_equal"
      ],
      "metadata": {
        "id": "lizmkM-n1Dfa"
      },
      "execution_count": null,
      "outputs": []
    },
    {
      "cell_type": "code",
      "source": [
        "compara_algoritmos = MultiComparison(resultados_df['accuracy'], resultados_df['algoritmo'])"
      ],
      "metadata": {
        "id": "Z0Nd60N51FWQ"
      },
      "execution_count": null,
      "outputs": []
    },
    {
      "cell_type": "code",
      "source": [
        "teste_estatistico = compara_algoritmos.tukeyhsd()\n",
        "print(teste_estatistico)"
      ],
      "metadata": {
        "colab": {
          "base_uri": "https://localhost:8080/"
        },
        "id": "EQFy2MaM1Gzp",
        "outputId": "5a2a503e-0871-4ae3-bfbf-b9f9c1edf8a1"
      },
      "execution_count": null,
      "outputs": [
        {
          "output_type": "stream",
          "name": "stdout",
          "text": [
            "       Multiple Comparison of Means - Tukey HSD, FWER=0.05       \n",
            "=================================================================\n",
            "    group1        group2    meandiff p-adj  lower   upper  reject\n",
            "-----------------------------------------------------------------\n",
            "     multipla random_forest  -0.0083 0.001 -0.0087 -0.0079   True\n",
            "     multipla           svm  -0.0323 0.001 -0.0327 -0.0319   True\n",
            "random_forest           svm   -0.024 0.001 -0.0244 -0.0236   True\n",
            "-----------------------------------------------------------------\n"
          ]
        }
      ]
    },
    {
      "cell_type": "markdown",
      "source": [
        "Como p foi menor que 0.05, então temos que todos são diferentes."
      ],
      "metadata": {
        "id": "ARK7lofI1-i9"
      }
    },
    {
      "cell_type": "code",
      "source": [
        "resultados.mean()"
      ],
      "metadata": {
        "colab": {
          "base_uri": "https://localhost:8080/"
        },
        "id": "lGO5YNwc1H3K",
        "outputId": "8a0f4b79-217b-40bc-8755-a0a4cea5ffe6"
      },
      "execution_count": null,
      "outputs": [
        {
          "output_type": "execute_result",
          "data": {
            "text/plain": [
              "Random forest    0.776800\n",
              "Reg. Multipla    0.752815\n",
              "SVM              0.785085\n",
              "dtype: float64"
            ]
          },
          "metadata": {},
          "execution_count": 136
        }
      ]
    },
    {
      "cell_type": "code",
      "source": [
        "import pandas as pd\n",
        "colnames = ['Modelo','Média']\n",
        "med2 = pd.DataFrame([['FA','0,77'], ['RLM','0,75'], ['MSV','0,78']], columns=colnames)\n",
        "med2.set_index('Modelo', inplace = True)\n",
        "display(med2)"
      ],
      "metadata": {
        "colab": {
          "base_uri": "https://localhost:8080/",
          "height": 172
        },
        "id": "v846KYbgxHlv",
        "outputId": "6ef1897e-135a-42d3-c82f-118aff161152"
      },
      "execution_count": null,
      "outputs": [
        {
          "output_type": "display_data",
          "data": {
            "text/plain": [
              "       Média\n",
              "Modelo      \n",
              "FA      0,77\n",
              "RLM     0,75\n",
              "MSV     0,78"
            ],
            "text/html": [
              "\n",
              "  <div id=\"df-53364344-e939-4733-b43a-d9c4eb8cc1e7\">\n",
              "    <div class=\"colab-df-container\">\n",
              "      <div>\n",
              "<style scoped>\n",
              "    .dataframe tbody tr th:only-of-type {\n",
              "        vertical-align: middle;\n",
              "    }\n",
              "\n",
              "    .dataframe tbody tr th {\n",
              "        vertical-align: top;\n",
              "    }\n",
              "\n",
              "    .dataframe thead th {\n",
              "        text-align: right;\n",
              "    }\n",
              "</style>\n",
              "<table border=\"1\" class=\"dataframe\">\n",
              "  <thead>\n",
              "    <tr style=\"text-align: right;\">\n",
              "      <th></th>\n",
              "      <th>Média</th>\n",
              "    </tr>\n",
              "    <tr>\n",
              "      <th>Modelo</th>\n",
              "      <th></th>\n",
              "    </tr>\n",
              "  </thead>\n",
              "  <tbody>\n",
              "    <tr>\n",
              "      <th>FA</th>\n",
              "      <td>0,77</td>\n",
              "    </tr>\n",
              "    <tr>\n",
              "      <th>RLM</th>\n",
              "      <td>0,75</td>\n",
              "    </tr>\n",
              "    <tr>\n",
              "      <th>MSV</th>\n",
              "      <td>0,78</td>\n",
              "    </tr>\n",
              "  </tbody>\n",
              "</table>\n",
              "</div>\n",
              "      <button class=\"colab-df-convert\" onclick=\"convertToInteractive('df-53364344-e939-4733-b43a-d9c4eb8cc1e7')\"\n",
              "              title=\"Convert this dataframe to an interactive table.\"\n",
              "              style=\"display:none;\">\n",
              "        \n",
              "  <svg xmlns=\"http://www.w3.org/2000/svg\" height=\"24px\"viewBox=\"0 0 24 24\"\n",
              "       width=\"24px\">\n",
              "    <path d=\"M0 0h24v24H0V0z\" fill=\"none\"/>\n",
              "    <path d=\"M18.56 5.44l.94 2.06.94-2.06 2.06-.94-2.06-.94-.94-2.06-.94 2.06-2.06.94zm-11 1L8.5 8.5l.94-2.06 2.06-.94-2.06-.94L8.5 2.5l-.94 2.06-2.06.94zm10 10l.94 2.06.94-2.06 2.06-.94-2.06-.94-.94-2.06-.94 2.06-2.06.94z\"/><path d=\"M17.41 7.96l-1.37-1.37c-.4-.4-.92-.59-1.43-.59-.52 0-1.04.2-1.43.59L10.3 9.45l-7.72 7.72c-.78.78-.78 2.05 0 2.83L4 21.41c.39.39.9.59 1.41.59.51 0 1.02-.2 1.41-.59l7.78-7.78 2.81-2.81c.8-.78.8-2.07 0-2.86zM5.41 20L4 18.59l7.72-7.72 1.47 1.35L5.41 20z\"/>\n",
              "  </svg>\n",
              "      </button>\n",
              "      \n",
              "  <style>\n",
              "    .colab-df-container {\n",
              "      display:flex;\n",
              "      flex-wrap:wrap;\n",
              "      gap: 12px;\n",
              "    }\n",
              "\n",
              "    .colab-df-convert {\n",
              "      background-color: #E8F0FE;\n",
              "      border: none;\n",
              "      border-radius: 50%;\n",
              "      cursor: pointer;\n",
              "      display: none;\n",
              "      fill: #1967D2;\n",
              "      height: 32px;\n",
              "      padding: 0 0 0 0;\n",
              "      width: 32px;\n",
              "    }\n",
              "\n",
              "    .colab-df-convert:hover {\n",
              "      background-color: #E2EBFA;\n",
              "      box-shadow: 0px 1px 2px rgba(60, 64, 67, 0.3), 0px 1px 3px 1px rgba(60, 64, 67, 0.15);\n",
              "      fill: #174EA6;\n",
              "    }\n",
              "\n",
              "    [theme=dark] .colab-df-convert {\n",
              "      background-color: #3B4455;\n",
              "      fill: #D2E3FC;\n",
              "    }\n",
              "\n",
              "    [theme=dark] .colab-df-convert:hover {\n",
              "      background-color: #434B5C;\n",
              "      box-shadow: 0px 1px 3px 1px rgba(0, 0, 0, 0.15);\n",
              "      filter: drop-shadow(0px 1px 2px rgba(0, 0, 0, 0.3));\n",
              "      fill: #FFFFFF;\n",
              "    }\n",
              "  </style>\n",
              "\n",
              "      <script>\n",
              "        const buttonEl =\n",
              "          document.querySelector('#df-53364344-e939-4733-b43a-d9c4eb8cc1e7 button.colab-df-convert');\n",
              "        buttonEl.style.display =\n",
              "          google.colab.kernel.accessAllowed ? 'block' : 'none';\n",
              "\n",
              "        async function convertToInteractive(key) {\n",
              "          const element = document.querySelector('#df-53364344-e939-4733-b43a-d9c4eb8cc1e7');\n",
              "          const dataTable =\n",
              "            await google.colab.kernel.invokeFunction('convertToInteractive',\n",
              "                                                     [key], {});\n",
              "          if (!dataTable) return;\n",
              "\n",
              "          const docLinkHtml = 'Like what you see? Visit the ' +\n",
              "            '<a target=\"_blank\" href=https://colab.research.google.com/notebooks/data_table.ipynb>data table notebook</a>'\n",
              "            + ' to learn more about interactive tables.';\n",
              "          element.innerHTML = '';\n",
              "          dataTable['output_type'] = 'display_data';\n",
              "          await google.colab.output.renderOutput(dataTable, element);\n",
              "          const docLink = document.createElement('div');\n",
              "          docLink.innerHTML = docLinkHtml;\n",
              "          element.appendChild(docLink);\n",
              "        }\n",
              "      </script>\n",
              "    </div>\n",
              "  </div>\n",
              "  "
            ]
          },
          "metadata": {}
        }
      ]
    },
    {
      "cell_type": "markdown",
      "source": [
        "Como a média de SVM foi a maior, e ela quando comparada aos outros mostra que foi diferente, então estatisticamente podemos concluir que a SVM é o melhor modelo estatístico para prever a temperatura com essas variáveis."
      ],
      "metadata": {
        "id": "NCtybm022RYo"
      }
    },
    {
      "cell_type": "code",
      "source": [
        "teste_estatistico.plot_simultaneous();"
      ],
      "metadata": {
        "colab": {
          "base_uri": "https://localhost:8080/",
          "height": 390
        },
        "id": "A6ViINU31JTh",
        "outputId": "69ac484e-01d0-43e9-bf7c-d5274e5f2d7f"
      },
      "execution_count": null,
      "outputs": [
        {
          "output_type": "display_data",
          "data": {
            "text/plain": [
              "<Figure size 720x432 with 1 Axes>"
            ],
            "image/png": "[encoded data removed]"
          },
          "metadata": {
            "needs_background": "light"
          }
        }
      ]
    }
  ]
}