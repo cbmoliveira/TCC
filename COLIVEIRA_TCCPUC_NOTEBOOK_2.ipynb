{
  "nbformat": 4,
  "nbformat_minor": 0,
  "metadata": {
    "colab": {
      "name": "COLIVEIRA_TCCPUC_NOTEBOOK_2.ipynb",
      "provenance": [],
      "collapsed_sections": [],
      "mount_file_id": "1YoT-JxKiknWn5nE34_pbU9eS_TjWwCbH",
      "authorship_tag": "ABX9TyOLvwlA4r2K8n67RPg08LfR",
      "include_colab_link": true
    },
    "kernelspec": {
      "name": "python3",
      "display_name": "Python 3"
    },
    "language_info": {
      "name": "python"
    }
  },
  "cells": [
    {
      "cell_type": "markdown",
      "metadata": {
        "id": "view-in-github",
        "colab_type": "text"
      },
      "source": [
        "<a href=\"https://colab.research.google.com/github/cbmoliveira/TCCPUC/blob/main/COLIVEIRA_TCCPUC_NOTEBOOK_2.ipynb\" target=\"_parent\"><img src=\"https://colab.research.google.com/assets/colab-badge.svg\" alt=\"Open In Colab\"/></a>"
      ]
    },
    {
      "cell_type": "markdown",
      "source": [
        "# MODELOS DE MACHINE LEARNING"
      ],
      "metadata": {
        "id": "5m9yXocAip2W"
      }
    },
    {
      "cell_type": "markdown",
      "source": [
        "### IMPORTAÇÃO DAS BIBLIOTECAS"
      ],
      "metadata": {
        "id": "tpBHUaoRitWJ"
      }
    },
    {
      "cell_type": "code",
      "execution_count": null,
      "metadata": {
        "id": "9_x2cNxDdHyl"
      },
      "outputs": [],
      "source": [
        "\n",
        "import datetime\n",
        "\n",
        "import matplotlib.pyplot as plt\n",
        "import numpy as np\n",
        "import pandas as pd\n",
        "import pickle\n",
        "from sklearn.preprocessing import Normalizer\n",
        "from scipy.signal import savgol_filter\n",
        "from google.colab import drive\n",
        "from google.colab import files\n",
        "\n",
        "from string import ascii_letters\n",
        "import seaborn as sns\n",
        "\n",
        "from datetime import datetime\n"
      ]
    },
    {
      "cell_type": "markdown",
      "source": [
        "### CARREGAMENTO DA BASE DE DADOS"
      ],
      "metadata": {
        "id": "by3ty-2vQtpE"
      }
    },
    {
      "cell_type": "code",
      "source": [
        "dados = pd.read_csv('/content/drive/MyDrive/tcc/resultf.csv', sep=',', \n",
        "                 index_col='Data',\n",
        "                 #date_parser=(lambda t:pd.to_datetime(str(t),format='%d/%m/%Y', dayfirst = True)), \n",
        "                 header=0)\n",
        "display(dados)"
      ],
      "metadata": {
        "colab": {
          "base_uri": "https://localhost:8080/",
          "height": 455
        },
        "id": "uGyFezP6dSZL",
        "outputId": "7c58737a-a0ff-413c-aaa6-44506171e275"
      },
      "execution_count": null,
      "outputs": [
        {
          "output_type": "display_data",
          "data": {
            "text/plain": [
              "             CL(cod)    Patm(mB)    RG(Kj/m²)    Tar(°C)      UR(%)  \\\n",
              "Data                                                                  \n",
              "2007-07-09  3.333333  924.700000   373.863833  19.066667  96.000000   \n",
              "2007-07-10  5.000000  923.966667   461.679208  19.400000  91.666667   \n",
              "2007-07-11  3.000000  924.400000   834.335458  20.266667  81.000000   \n",
              "2007-07-12  3.333333  924.833333   553.414042  19.333333  85.666667   \n",
              "2007-07-13  5.000000  926.100000   508.040625  19.666667  92.666667   \n",
              "...              ...         ...          ...        ...        ...   \n",
              "2020-12-27  2.000000  921.833333   686.362583  20.804167  84.000000   \n",
              "2020-12-28  2.000000  922.295833   876.021167  21.383333  79.291667   \n",
              "2020-12-29  2.000000  920.925000  1020.476500  21.591667  75.000000   \n",
              "2020-12-30  2.000000  920.775000   909.035125  22.091667  76.583333   \n",
              "2020-12-31  2.000000  922.254167   808.617417  21.629167  84.458333   \n",
              "\n",
              "                  V(°)  \n",
              "Data                    \n",
              "2007-07-09  111.833333  \n",
              "2007-07-10  114.250000  \n",
              "2007-07-11  115.375000  \n",
              "2007-07-12  128.791667  \n",
              "2007-07-13  143.083333  \n",
              "...                ...  \n",
              "2020-12-27   86.541667  \n",
              "2020-12-28  124.166667  \n",
              "2020-12-29  129.166667  \n",
              "2020-12-30  114.750000  \n",
              "2020-12-31  128.375000  \n",
              "\n",
              "[4925 rows x 6 columns]"
            ],
            "text/html": [
              "\n",
              "  <div id=\"df-f9f54656-2d80-4e8b-8872-d50f4b04937a\">\n",
              "    <div class=\"colab-df-container\">\n",
              "      <div>\n",
              "<style scoped>\n",
              "    .dataframe tbody tr th:only-of-type {\n",
              "        vertical-align: middle;\n",
              "    }\n",
              "\n",
              "    .dataframe tbody tr th {\n",
              "        vertical-align: top;\n",
              "    }\n",
              "\n",
              "    .dataframe thead th {\n",
              "        text-align: right;\n",
              "    }\n",
              "</style>\n",
              "<table border=\"1\" class=\"dataframe\">\n",
              "  <thead>\n",
              "    <tr style=\"text-align: right;\">\n",
              "      <th></th>\n",
              "      <th>CL(cod)</th>\n",
              "      <th>Patm(mB)</th>\n",
              "      <th>RG(Kj/m²)</th>\n",
              "      <th>Tar(°C)</th>\n",
              "      <th>UR(%)</th>\n",
              "      <th>V(°)</th>\n",
              "    </tr>\n",
              "    <tr>\n",
              "      <th>Data</th>\n",
              "      <th></th>\n",
              "      <th></th>\n",
              "      <th></th>\n",
              "      <th></th>\n",
              "      <th></th>\n",
              "      <th></th>\n",
              "    </tr>\n",
              "  </thead>\n",
              "  <tbody>\n",
              "    <tr>\n",
              "      <th>2007-07-09</th>\n",
              "      <td>3.333333</td>\n",
              "      <td>924.700000</td>\n",
              "      <td>373.863833</td>\n",
              "      <td>19.066667</td>\n",
              "      <td>96.000000</td>\n",
              "      <td>111.833333</td>\n",
              "    </tr>\n",
              "    <tr>\n",
              "      <th>2007-07-10</th>\n",
              "      <td>5.000000</td>\n",
              "      <td>923.966667</td>\n",
              "      <td>461.679208</td>\n",
              "      <td>19.400000</td>\n",
              "      <td>91.666667</td>\n",
              "      <td>114.250000</td>\n",
              "    </tr>\n",
              "    <tr>\n",
              "      <th>2007-07-11</th>\n",
              "      <td>3.000000</td>\n",
              "      <td>924.400000</td>\n",
              "      <td>834.335458</td>\n",
              "      <td>20.266667</td>\n",
              "      <td>81.000000</td>\n",
              "      <td>115.375000</td>\n",
              "    </tr>\n",
              "    <tr>\n",
              "      <th>2007-07-12</th>\n",
              "      <td>3.333333</td>\n",
              "      <td>924.833333</td>\n",
              "      <td>553.414042</td>\n",
              "      <td>19.333333</td>\n",
              "      <td>85.666667</td>\n",
              "      <td>128.791667</td>\n",
              "    </tr>\n",
              "    <tr>\n",
              "      <th>2007-07-13</th>\n",
              "      <td>5.000000</td>\n",
              "      <td>926.100000</td>\n",
              "      <td>508.040625</td>\n",
              "      <td>19.666667</td>\n",
              "      <td>92.666667</td>\n",
              "      <td>143.083333</td>\n",
              "    </tr>\n",
              "    <tr>\n",
              "      <th>...</th>\n",
              "      <td>...</td>\n",
              "      <td>...</td>\n",
              "      <td>...</td>\n",
              "      <td>...</td>\n",
              "      <td>...</td>\n",
              "      <td>...</td>\n",
              "    </tr>\n",
              "    <tr>\n",
              "      <th>2020-12-27</th>\n",
              "      <td>2.000000</td>\n",
              "      <td>921.833333</td>\n",
              "      <td>686.362583</td>\n",
              "      <td>20.804167</td>\n",
              "      <td>84.000000</td>\n",
              "      <td>86.541667</td>\n",
              "    </tr>\n",
              "    <tr>\n",
              "      <th>2020-12-28</th>\n",
              "      <td>2.000000</td>\n",
              "      <td>922.295833</td>\n",
              "      <td>876.021167</td>\n",
              "      <td>21.383333</td>\n",
              "      <td>79.291667</td>\n",
              "      <td>124.166667</td>\n",
              "    </tr>\n",
              "    <tr>\n",
              "      <th>2020-12-29</th>\n",
              "      <td>2.000000</td>\n",
              "      <td>920.925000</td>\n",
              "      <td>1020.476500</td>\n",
              "      <td>21.591667</td>\n",
              "      <td>75.000000</td>\n",
              "      <td>129.166667</td>\n",
              "    </tr>\n",
              "    <tr>\n",
              "      <th>2020-12-30</th>\n",
              "      <td>2.000000</td>\n",
              "      <td>920.775000</td>\n",
              "      <td>909.035125</td>\n",
              "      <td>22.091667</td>\n",
              "      <td>76.583333</td>\n",
              "      <td>114.750000</td>\n",
              "    </tr>\n",
              "    <tr>\n",
              "      <th>2020-12-31</th>\n",
              "      <td>2.000000</td>\n",
              "      <td>922.254167</td>\n",
              "      <td>808.617417</td>\n",
              "      <td>21.629167</td>\n",
              "      <td>84.458333</td>\n",
              "      <td>128.375000</td>\n",
              "    </tr>\n",
              "  </tbody>\n",
              "</table>\n",
              "<p>4925 rows × 6 columns</p>\n",
              "</div>\n",
              "      <button class=\"colab-df-convert\" onclick=\"convertToInteractive('df-f9f54656-2d80-4e8b-8872-d50f4b04937a')\"\n",
              "              title=\"Convert this dataframe to an interactive table.\"\n",
              "              style=\"display:none;\">\n",
              "        \n",
              "  <svg xmlns=\"http://www.w3.org/2000/svg\" height=\"24px\"viewBox=\"0 0 24 24\"\n",
              "       width=\"24px\">\n",
              "    <path d=\"M0 0h24v24H0V0z\" fill=\"none\"/>\n",
              "    <path d=\"M18.56 5.44l.94 2.06.94-2.06 2.06-.94-2.06-.94-.94-2.06-.94 2.06-2.06.94zm-11 1L8.5 8.5l.94-2.06 2.06-.94-2.06-.94L8.5 2.5l-.94 2.06-2.06.94zm10 10l.94 2.06.94-2.06 2.06-.94-2.06-.94-.94-2.06-.94 2.06-2.06.94z\"/><path d=\"M17.41 7.96l-1.37-1.37c-.4-.4-.92-.59-1.43-.59-.52 0-1.04.2-1.43.59L10.3 9.45l-7.72 7.72c-.78.78-.78 2.05 0 2.83L4 21.41c.39.39.9.59 1.41.59.51 0 1.02-.2 1.41-.59l7.78-7.78 2.81-2.81c.8-.78.8-2.07 0-2.86zM5.41 20L4 18.59l7.72-7.72 1.47 1.35L5.41 20z\"/>\n",
              "  </svg>\n",
              "      </button>\n",
              "      \n",
              "  <style>\n",
              "    .colab-df-container {\n",
              "      display:flex;\n",
              "      flex-wrap:wrap;\n",
              "      gap: 12px;\n",
              "    }\n",
              "\n",
              "    .colab-df-convert {\n",
              "      background-color: #E8F0FE;\n",
              "      border: none;\n",
              "      border-radius: 50%;\n",
              "      cursor: pointer;\n",
              "      display: none;\n",
              "      fill: #1967D2;\n",
              "      height: 32px;\n",
              "      padding: 0 0 0 0;\n",
              "      width: 32px;\n",
              "    }\n",
              "\n",
              "    .colab-df-convert:hover {\n",
              "      background-color: #E2EBFA;\n",
              "      box-shadow: 0px 1px 2px rgba(60, 64, 67, 0.3), 0px 1px 3px 1px rgba(60, 64, 67, 0.15);\n",
              "      fill: #174EA6;\n",
              "    }\n",
              "\n",
              "    [theme=dark] .colab-df-convert {\n",
              "      background-color: #3B4455;\n",
              "      fill: #D2E3FC;\n",
              "    }\n",
              "\n",
              "    [theme=dark] .colab-df-convert:hover {\n",
              "      background-color: #434B5C;\n",
              "      box-shadow: 0px 1px 3px 1px rgba(0, 0, 0, 0.15);\n",
              "      filter: drop-shadow(0px 1px 2px rgba(0, 0, 0, 0.3));\n",
              "      fill: #FFFFFF;\n",
              "    }\n",
              "  </style>\n",
              "\n",
              "      <script>\n",
              "        const buttonEl =\n",
              "          document.querySelector('#df-f9f54656-2d80-4e8b-8872-d50f4b04937a button.colab-df-convert');\n",
              "        buttonEl.style.display =\n",
              "          google.colab.kernel.accessAllowed ? 'block' : 'none';\n",
              "\n",
              "        async function convertToInteractive(key) {\n",
              "          const element = document.querySelector('#df-f9f54656-2d80-4e8b-8872-d50f4b04937a');\n",
              "          const dataTable =\n",
              "            await google.colab.kernel.invokeFunction('convertToInteractive',\n",
              "                                                     [key], {});\n",
              "          if (!dataTable) return;\n",
              "\n",
              "          const docLinkHtml = 'Like what you see? Visit the ' +\n",
              "            '<a target=\"_blank\" href=https://colab.research.google.com/notebooks/data_table.ipynb>data table notebook</a>'\n",
              "            + ' to learn more about interactive tables.';\n",
              "          element.innerHTML = '';\n",
              "          dataTable['output_type'] = 'display_data';\n",
              "          await google.colab.output.renderOutput(dataTable, element);\n",
              "          const docLink = document.createElement('div');\n",
              "          docLink.innerHTML = docLinkHtml;\n",
              "          element.appendChild(docLink);\n",
              "        }\n",
              "      </script>\n",
              "    </div>\n",
              "  </div>\n",
              "  "
            ]
          },
          "metadata": {}
        }
      ]
    },
    {
      "cell_type": "code",
      "source": [
        "display(dados.dtypes, dados.shape)"
      ],
      "metadata": {
        "colab": {
          "base_uri": "https://localhost:8080/",
          "height": 156
        },
        "id": "k0iQhmnxd-zM",
        "outputId": "7d9b35f9-4945-428b-c5f0-9a3bfd331762"
      },
      "execution_count": null,
      "outputs": [
        {
          "output_type": "display_data",
          "data": {
            "text/plain": [
              "CL(cod)      float64\n",
              "Patm(mB)     float64\n",
              "RG(Kj/m²)    float64\n",
              "Tar(°C)      float64\n",
              "UR(%)        float64\n",
              "V(°)         float64\n",
              "dtype: object"
            ]
          },
          "metadata": {}
        },
        {
          "output_type": "display_data",
          "data": {
            "text/plain": [
              "(4925, 6)"
            ]
          },
          "metadata": {}
        }
      ]
    },
    {
      "cell_type": "code",
      "source": [
        "dados.columns"
      ],
      "metadata": {
        "colab": {
          "base_uri": "https://localhost:8080/"
        },
        "id": "wTTBm_HXeDrs",
        "outputId": "af3c40e7-e2a8-44c3-9bec-125573357bcc"
      },
      "execution_count": null,
      "outputs": [
        {
          "output_type": "execute_result",
          "data": {
            "text/plain": [
              "Index(['CL(cod)', 'Patm(mB)', 'RG(Kj/m²)', 'Tar(°C)', 'UR(%)', 'V(°)'], dtype='object')"
            ]
          },
          "metadata": {},
          "execution_count": 4
        }
      ]
    },
    {
      "cell_type": "markdown",
      "source": [
        "### DIVISÃO ENTRE TARGET E FEATURE"
      ],
      "metadata": {
        "id": "N8LnwLcyi0ka"
      }
    },
    {
      "cell_type": "code",
      "source": [
        "#Previsores, feature, x\n",
        "dprev = dados.drop('Tar(°C)', axis=1)\n",
        "display(dprev)"
      ],
      "metadata": {
        "colab": {
          "base_uri": "https://localhost:8080/",
          "height": 455
        },
        "id": "VKwAUPBueGOO",
        "outputId": "05bf01e9-be6d-4dba-df87-624c62b8d73f"
      },
      "execution_count": null,
      "outputs": [
        {
          "output_type": "display_data",
          "data": {
            "text/plain": [
              "             CL(cod)    Patm(mB)    RG(Kj/m²)      UR(%)        V(°)\n",
              "Data                                                                \n",
              "2007-07-09  3.333333  924.700000   373.863833  96.000000  111.833333\n",
              "2007-07-10  5.000000  923.966667   461.679208  91.666667  114.250000\n",
              "2007-07-11  3.000000  924.400000   834.335458  81.000000  115.375000\n",
              "2007-07-12  3.333333  924.833333   553.414042  85.666667  128.791667\n",
              "2007-07-13  5.000000  926.100000   508.040625  92.666667  143.083333\n",
              "...              ...         ...          ...        ...         ...\n",
              "2020-12-27  2.000000  921.833333   686.362583  84.000000   86.541667\n",
              "2020-12-28  2.000000  922.295833   876.021167  79.291667  124.166667\n",
              "2020-12-29  2.000000  920.925000  1020.476500  75.000000  129.166667\n",
              "2020-12-30  2.000000  920.775000   909.035125  76.583333  114.750000\n",
              "2020-12-31  2.000000  922.254167   808.617417  84.458333  128.375000\n",
              "\n",
              "[4925 rows x 5 columns]"
            ],
            "text/html": [
              "\n",
              "  <div id=\"df-f40c6b98-987d-475b-9f6c-03b190a0e3e7\">\n",
              "    <div class=\"colab-df-container\">\n",
              "      <div>\n",
              "<style scoped>\n",
              "    .dataframe tbody tr th:only-of-type {\n",
              "        vertical-align: middle;\n",
              "    }\n",
              "\n",
              "    .dataframe tbody tr th {\n",
              "        vertical-align: top;\n",
              "    }\n",
              "\n",
              "    .dataframe thead th {\n",
              "        text-align: right;\n",
              "    }\n",
              "</style>\n",
              "<table border=\"1\" class=\"dataframe\">\n",
              "  <thead>\n",
              "    <tr style=\"text-align: right;\">\n",
              "      <th></th>\n",
              "      <th>CL(cod)</th>\n",
              "      <th>Patm(mB)</th>\n",
              "      <th>RG(Kj/m²)</th>\n",
              "      <th>UR(%)</th>\n",
              "      <th>V(°)</th>\n",
              "    </tr>\n",
              "    <tr>\n",
              "      <th>Data</th>\n",
              "      <th></th>\n",
              "      <th></th>\n",
              "      <th></th>\n",
              "      <th></th>\n",
              "      <th></th>\n",
              "    </tr>\n",
              "  </thead>\n",
              "  <tbody>\n",
              "    <tr>\n",
              "      <th>2007-07-09</th>\n",
              "      <td>3.333333</td>\n",
              "      <td>924.700000</td>\n",
              "      <td>373.863833</td>\n",
              "      <td>96.000000</td>\n",
              "      <td>111.833333</td>\n",
              "    </tr>\n",
              "    <tr>\n",
              "      <th>2007-07-10</th>\n",
              "      <td>5.000000</td>\n",
              "      <td>923.966667</td>\n",
              "      <td>461.679208</td>\n",
              "      <td>91.666667</td>\n",
              "      <td>114.250000</td>\n",
              "    </tr>\n",
              "    <tr>\n",
              "      <th>2007-07-11</th>\n",
              "      <td>3.000000</td>\n",
              "      <td>924.400000</td>\n",
              "      <td>834.335458</td>\n",
              "      <td>81.000000</td>\n",
              "      <td>115.375000</td>\n",
              "    </tr>\n",
              "    <tr>\n",
              "      <th>2007-07-12</th>\n",
              "      <td>3.333333</td>\n",
              "      <td>924.833333</td>\n",
              "      <td>553.414042</td>\n",
              "      <td>85.666667</td>\n",
              "      <td>128.791667</td>\n",
              "    </tr>\n",
              "    <tr>\n",
              "      <th>2007-07-13</th>\n",
              "      <td>5.000000</td>\n",
              "      <td>926.100000</td>\n",
              "      <td>508.040625</td>\n",
              "      <td>92.666667</td>\n",
              "      <td>143.083333</td>\n",
              "    </tr>\n",
              "    <tr>\n",
              "      <th>...</th>\n",
              "      <td>...</td>\n",
              "      <td>...</td>\n",
              "      <td>...</td>\n",
              "      <td>...</td>\n",
              "      <td>...</td>\n",
              "    </tr>\n",
              "    <tr>\n",
              "      <th>2020-12-27</th>\n",
              "      <td>2.000000</td>\n",
              "      <td>921.833333</td>\n",
              "      <td>686.362583</td>\n",
              "      <td>84.000000</td>\n",
              "      <td>86.541667</td>\n",
              "    </tr>\n",
              "    <tr>\n",
              "      <th>2020-12-28</th>\n",
              "      <td>2.000000</td>\n",
              "      <td>922.295833</td>\n",
              "      <td>876.021167</td>\n",
              "      <td>79.291667</td>\n",
              "      <td>124.166667</td>\n",
              "    </tr>\n",
              "    <tr>\n",
              "      <th>2020-12-29</th>\n",
              "      <td>2.000000</td>\n",
              "      <td>920.925000</td>\n",
              "      <td>1020.476500</td>\n",
              "      <td>75.000000</td>\n",
              "      <td>129.166667</td>\n",
              "    </tr>\n",
              "    <tr>\n",
              "      <th>2020-12-30</th>\n",
              "      <td>2.000000</td>\n",
              "      <td>920.775000</td>\n",
              "      <td>909.035125</td>\n",
              "      <td>76.583333</td>\n",
              "      <td>114.750000</td>\n",
              "    </tr>\n",
              "    <tr>\n",
              "      <th>2020-12-31</th>\n",
              "      <td>2.000000</td>\n",
              "      <td>922.254167</td>\n",
              "      <td>808.617417</td>\n",
              "      <td>84.458333</td>\n",
              "      <td>128.375000</td>\n",
              "    </tr>\n",
              "  </tbody>\n",
              "</table>\n",
              "<p>4925 rows × 5 columns</p>\n",
              "</div>\n",
              "      <button class=\"colab-df-convert\" onclick=\"convertToInteractive('df-f40c6b98-987d-475b-9f6c-03b190a0e3e7')\"\n",
              "              title=\"Convert this dataframe to an interactive table.\"\n",
              "              style=\"display:none;\">\n",
              "        \n",
              "  <svg xmlns=\"http://www.w3.org/2000/svg\" height=\"24px\"viewBox=\"0 0 24 24\"\n",
              "       width=\"24px\">\n",
              "    <path d=\"M0 0h24v24H0V0z\" fill=\"none\"/>\n",
              "    <path d=\"M18.56 5.44l.94 2.06.94-2.06 2.06-.94-2.06-.94-.94-2.06-.94 2.06-2.06.94zm-11 1L8.5 8.5l.94-2.06 2.06-.94-2.06-.94L8.5 2.5l-.94 2.06-2.06.94zm10 10l.94 2.06.94-2.06 2.06-.94-2.06-.94-.94-2.06-.94 2.06-2.06.94z\"/><path d=\"M17.41 7.96l-1.37-1.37c-.4-.4-.92-.59-1.43-.59-.52 0-1.04.2-1.43.59L10.3 9.45l-7.72 7.72c-.78.78-.78 2.05 0 2.83L4 21.41c.39.39.9.59 1.41.59.51 0 1.02-.2 1.41-.59l7.78-7.78 2.81-2.81c.8-.78.8-2.07 0-2.86zM5.41 20L4 18.59l7.72-7.72 1.47 1.35L5.41 20z\"/>\n",
              "  </svg>\n",
              "      </button>\n",
              "      \n",
              "  <style>\n",
              "    .colab-df-container {\n",
              "      display:flex;\n",
              "      flex-wrap:wrap;\n",
              "      gap: 12px;\n",
              "    }\n",
              "\n",
              "    .colab-df-convert {\n",
              "      background-color: #E8F0FE;\n",
              "      border: none;\n",
              "      border-radius: 50%;\n",
              "      cursor: pointer;\n",
              "      display: none;\n",
              "      fill: #1967D2;\n",
              "      height: 32px;\n",
              "      padding: 0 0 0 0;\n",
              "      width: 32px;\n",
              "    }\n",
              "\n",
              "    .colab-df-convert:hover {\n",
              "      background-color: #E2EBFA;\n",
              "      box-shadow: 0px 1px 2px rgba(60, 64, 67, 0.3), 0px 1px 3px 1px rgba(60, 64, 67, 0.15);\n",
              "      fill: #174EA6;\n",
              "    }\n",
              "\n",
              "    [theme=dark] .colab-df-convert {\n",
              "      background-color: #3B4455;\n",
              "      fill: #D2E3FC;\n",
              "    }\n",
              "\n",
              "    [theme=dark] .colab-df-convert:hover {\n",
              "      background-color: #434B5C;\n",
              "      box-shadow: 0px 1px 3px 1px rgba(0, 0, 0, 0.15);\n",
              "      filter: drop-shadow(0px 1px 2px rgba(0, 0, 0, 0.3));\n",
              "      fill: #FFFFFF;\n",
              "    }\n",
              "  </style>\n",
              "\n",
              "      <script>\n",
              "        const buttonEl =\n",
              "          document.querySelector('#df-f40c6b98-987d-475b-9f6c-03b190a0e3e7 button.colab-df-convert');\n",
              "        buttonEl.style.display =\n",
              "          google.colab.kernel.accessAllowed ? 'block' : 'none';\n",
              "\n",
              "        async function convertToInteractive(key) {\n",
              "          const element = document.querySelector('#df-f40c6b98-987d-475b-9f6c-03b190a0e3e7');\n",
              "          const dataTable =\n",
              "            await google.colab.kernel.invokeFunction('convertToInteractive',\n",
              "                                                     [key], {});\n",
              "          if (!dataTable) return;\n",
              "\n",
              "          const docLinkHtml = 'Like what you see? Visit the ' +\n",
              "            '<a target=\"_blank\" href=https://colab.research.google.com/notebooks/data_table.ipynb>data table notebook</a>'\n",
              "            + ' to learn more about interactive tables.';\n",
              "          element.innerHTML = '';\n",
              "          dataTable['output_type'] = 'display_data';\n",
              "          await google.colab.output.renderOutput(dataTable, element);\n",
              "          const docLink = document.createElement('div');\n",
              "          docLink.innerHTML = docLinkHtml;\n",
              "          element.appendChild(docLink);\n",
              "        }\n",
              "      </script>\n",
              "    </div>\n",
              "  </div>\n",
              "  "
            ]
          },
          "metadata": {}
        }
      ]
    },
    {
      "cell_type": "code",
      "source": [
        "#Classe, target, y\n",
        "dclass = dados['Tar(°C)']\n",
        "display(dclass)"
      ],
      "metadata": {
        "colab": {
          "base_uri": "https://localhost:8080/",
          "height": 243
        },
        "id": "fLMjmNcZeI1w",
        "outputId": "2ac23dd3-2073-4e80-92e5-12e7dc1b2fb8"
      },
      "execution_count": null,
      "outputs": [
        {
          "output_type": "display_data",
          "data": {
            "text/plain": [
              "Data\n",
              "2007-07-09    19.066667\n",
              "2007-07-10    19.400000\n",
              "2007-07-11    20.266667\n",
              "2007-07-12    19.333333\n",
              "2007-07-13    19.666667\n",
              "                ...    \n",
              "2020-12-27    20.804167\n",
              "2020-12-28    21.383333\n",
              "2020-12-29    21.591667\n",
              "2020-12-30    22.091667\n",
              "2020-12-31    21.629167\n",
              "Name: Tar(°C), Length: 4925, dtype: float64"
            ]
          },
          "metadata": {}
        }
      ]
    },
    {
      "cell_type": "markdown",
      "source": [
        "NORMALIZAÇÃO DOS DADOS"
      ],
      "metadata": {
        "id": "0eyAUcsEi4uK"
      }
    },
    {
      "cell_type": "code",
      "source": [
        "dnorm = Normalizer().fit_transform(dprev)\n",
        "display(dnorm)"
      ],
      "metadata": {
        "colab": {
          "base_uri": "https://localhost:8080/",
          "height": 139
        },
        "id": "fE839jNXeLU4",
        "outputId": "8720eeae-945f-44fc-940b-d3cf4a78031d"
      },
      "execution_count": null,
      "outputs": [
        {
          "output_type": "display_data",
          "data": {
            "text/plain": [
              "array([[0.00330604, 0.91712914, 0.37080287, 0.09521401, 0.11091771],\n",
              "       [0.00479278, 0.88567304, 0.442545  , 0.08786756, 0.10951493],\n",
              "       [0.00239387, 0.73763115, 0.66576355, 0.06463449, 0.09206425],\n",
              "       ...,\n",
              "       [0.00144647, 0.66604624, 0.73804548, 0.05424271, 0.093418  ],\n",
              "       [0.001537  , 0.70761717, 0.69859505, 0.05885442, 0.08818557],\n",
              "       [0.00161794, 0.74607823, 0.65414923, 0.06832447, 0.10385184]])"
            ]
          },
          "metadata": {}
        }
      ]
    },
    {
      "cell_type": "code",
      "source": [
        "from sklearn.model_selection import train_test_split\n",
        "x_train, x_test, y_train, y_test = train_test_split(dnorm, dclass, test_size=0.20, random_state=1)"
      ],
      "metadata": {
        "id": "GyQLjxNpeN_n"
      },
      "execution_count": null,
      "outputs": []
    },
    {
      "cell_type": "markdown",
      "source": [
        "### REGRESSÃO LINEAR MÚLTIPLA"
      ],
      "metadata": {
        "id": "NnDGJfjJeWCw"
      }
    },
    {
      "cell_type": "code",
      "source": [
        "from sklearn.linear_model import LinearRegression\n",
        "lm = LinearRegression()\n",
        "model = lm.fit(x_train,y_train)\n",
        "y_prediction = lm.predict(x_test)"
      ],
      "metadata": {
        "id": "1UwyITD9eVg8"
      },
      "execution_count": null,
      "outputs": []
    },
    {
      "cell_type": "code",
      "source": [
        "print('Alfa:',round(model.intercept_,2))\n",
        "print('Beta:',model.coef_)\n",
        "print('Erro teste:',round(model.score(x_test, y_test),2))"
      ],
      "metadata": {
        "colab": {
          "base_uri": "https://localhost:8080/"
        },
        "id": "zxETDFAYecJy",
        "outputId": "07938f39-6278-4474-f4b0-6d17e942aaf1"
      },
      "execution_count": null,
      "outputs": [
        {
          "output_type": "stream",
          "name": "stdout",
          "text": [
            "Alfa: 25.18\n",
            "Beta: [  17.17975278   16.49815054   -1.27243091 -191.92590369  -17.7181554 ]\n",
            "Erro teste: 0.74\n"
          ]
        }
      ]
    },
    {
      "cell_type": "code",
      "source": [
        "import plotly.express as px\n",
        "fig = px.scatter(x=y_test,y=y_prediction, trendline='ols', trendline_color_override='darkblue')\n",
        "fig.update_layout(\n",
        "    #title=\"Plot Title\",\n",
        "    xaxis_title=\"Temperatura Real\",\n",
        "    yaxis_title=\"Temperatura Predita\",\n",
        "    #legend_title=\"Temperatura\",\n",
        "    #font=dict(\n",
        "     #   family=\"Courier New, monospace\",\n",
        "      #  size=18,\n",
        "       # color=\"RebeccaPurple\"\n",
        "  #  )\n",
        ")"
      ],
      "metadata": {
        "colab": {
          "base_uri": "https://localhost:8080/",
          "height": 597
        },
        "id": "j24ve3sVef5d",
        "outputId": "cd6b6497-2864-45b2-cc6c-4f70c48609ce"
      },
      "execution_count": null,
      "outputs": [
        {
          "output_type": "stream",
          "name": "stderr",
          "text": [
            "/usr/local/lib/python3.7/dist-packages/statsmodels/tools/_testing.py:19: FutureWarning: pandas.util.testing is deprecated. Use the functions in the public API at pandas.testing instead.\n",
            "  import pandas.util.testing as tm\n"
          ]
        },
        {
          "output_type": "display_data",
          "data": {
            "text/html": [
              "<html>\n",
              "<head><meta charset=\"utf-8\" /></head>\n",
              "<body>\n",
              "    <div>            <script src=\"https://cdnjs.cloudflare.com/ajax/libs/mathjax/2.7.5/MathJax.js?config=TeX-AMS-MML_SVG\"></script><script type=\"text/javascript\">if (window.MathJax) {MathJax.Hub.Config({SVG: {font: \"STIX-Web\"}});}</script>                <script type=\"text/javascript\">window.PlotlyConfig = {MathJaxConfig: 'local'};</script>\n",
              "        <script src=\"https://cdn.plot.ly/plotly-2.8.3.min.js\"></script>                <div id=\"b48c8aa7-36c4-496f-91f9-5848c7cbbe09\" class=\"plotly-graph-div\" style=\"height:525px; width:100%;\"></div>            <script type=\"text/javascript\">                                    window.PLOTLYENV=window.PLOTLYENV || {};                                    if (document.getElementById(\"b48c8aa7-36c4-496f-91f9-5848c7cbbe09\")) {                    Plotly.newPlot(                        \"b48c8aa7-36c4-496f-91f9-5848c7cbbe09\",                        [{\"hovertemplate\":\"x=%{x}<br>y=%{y}<extra></extra>\",\"legendgroup\":\"\",\"marker\":{\"color\":\"#636efa\",\"symbol\":\"circle\"},\"mode\":\"markers\",\"name\":\"\",\"orientation\":\"v\",\"showlegend\":false,\"x\":[26.3,21.1,26.2,19.1,22.7,27.3,21.0,20.5,18.5,20.8,18.4375,25.2,25.9,22.5,19.9,25.5,28.8,27.0,22.3,25.266666666666666,17.9,21.9,21.004166666666663,22.2,21.0,25.46666666666667,26.0,20.7,21.0,21.9,25.7,25.1,23.53333333333333,25.700000000000003,20.7,21.2125,25.8,26.0,21.6,19.3,22.2,24.46666666666667,25.4,25.4,24.2,22.9,22.8,23.7,18.7,23.1,22.77916666666667,25.1,26.8,22.5,23.116666666666664,21.200000000000003,22.6,20.3,19.46666666666667,23.4,24.9,19.3875,20.9,23.3,24.8,23.0,21.0,26.5,21.14583333333333,22.7,20.0,17.720833333333335,21.9,25.0,19.5,21.1,21.266666666666666,25.5,26.3,24.4,22.6,29.05,26.0,24.4,22.5,19.8,23.6,22.9,26.9,20.8,18.075,22.0,22.5,25.2,24.211111111111112,22.1,25.5,27.0,20.8,26.2,25.9,25.3,22.954166666666666,21.4,20.9375,26.0,18.45833333333333,20.0,26.64,21.729166666666668,19.954166666666666,26.0,26.1,27.0,21.4,26.3,25.6,22.8,27.9,19.4125,20.73333333333333,27.65,20.5,24.28333333333333,24.5,23.8,25.3,22.025,20.5,25.5,22.504166666666663,21.7,22.304166666666664,23.4,27.1,20.3,26.7,20.33333333333333,21.6,20.2,25.3,26.4,19.8,22.2,21.5,25.3,23.05,22.8,22.9,18.6,19.4,23.9,24.3,22.0,25.9,24.8,23.70833333333333,21.8,27.1,25.1,23.4,21.8,24.4,18.2,24.4,21.2,24.6,25.7,19.866666666666667,25.4,21.883333333333336,25.1,22.2,23.5,21.6,26.4,20.4,22.1,20.7,18.4,28.3,21.1,21.8,22.0,19.2,23.933333333333334,22.0,20.1,25.8,23.3,22.9,21.6875,21.2,27.0,20.1,25.8,21.3,22.73333333333333,23.0,21.3625,21.570833333333336,24.8,20.08333333333333,21.0,25.4,25.7,19.4,22.2,23.53333333333333,23.0,19.60833333333333,24.5,23.025,25.1,26.4,20.700000000000003,23.200000000000003,18.4,22.4,22.5,22.8,20.391666666666666,26.0,18.0,18.6,24.2,26.5,24.7,20.26666666666667,25.8,24.10833333333333,22.5,25.8,24.8,24.7,19.2,23.0,20.7,19.966666666666665,20.666666666666668,20.7,24.9,26.2,21.5,21.5,25.9,23.7,24.200000000000003,23.33333333333333,19.2,23.20833333333333,27.2,20.1,19.7,26.1,23.866666666666664,23.700000000000003,27.5,21.0,25.0,20.200000000000003,20.6,19.5,24.3,24.8,19.933333333333334,23.2,21.8,24.0,19.058333333333334,23.05,24.8,21.6,21.6,25.8,18.666666666666668,27.7,21.133333333333333,27.0,21.8,22.0,24.5,21.825,21.8,23.066666666666663,26.65,25.1,18.654166666666665,24.5,22.5,20.004166666666663,17.816666666666666,25.7,25.5,23.6,19.53333333333333,25.7,26.9,25.7,22.675,21.504166666666663,20.6,18.6,26.1,22.9125,21.84166666666667,20.2,25.0,25.2,25.200000000000003,22.0,20.8,21.2,19.7875,24.700000000000003,26.3,21.9,19.7,18.379166666666663,23.46666666666667,25.933333333333334,25.2,21.3,25.1,23.7,24.0,21.933333333333334,18.97083333333333,23.3,19.6,26.6,24.2,23.3,21.5,26.5,25.5,26.65,23.8,21.7,24.2,23.1,21.029166666666665,20.716666666666665,25.7,17.599999999999998,22.8,19.666666666666668,25.33333333333333,27.2,22.8,19.7,24.53333333333333,22.8,27.5,21.6,22.058333333333334,24.8,22.6,22.945833333333336,22.2,21.9,25.9,18.8,19.3,22.4,19.466666666666665,26.5,24.0,18.695833333333333,20.0,22.7,24.9,24.9,24.3,20.3,19.779166666666665,21.0,21.89583333333333,20.700000000000003,21.4,21.1,24.33333333333333,19.2,21.4,22.1,20.6,23.3,25.6,25.1,21.1,27.0,24.0,24.2,19.304166666666667,25.5,21.0,20.0,27.1,20.654166666666665,20.666666666666668,23.46666666666667,20.3,24.15416666666667,20.933333333333334,26.2,23.33333333333333,21.2,26.0,20.404166666666665,24.5,20.5,26.9,22.5,21.9,17.958333333333332,22.0,19.9,23.8,18.1,25.8,24.2,22.89583333333333,18.4,25.2,19.17083333333333,17.412499999999998,23.3,18.78333333333333,28.0,21.0,22.1,21.945833333333336,23.066666666666663,27.2,18.5,18.7,24.5,25.8,18.6875,20.4,25.5,22.6,18.6,19.35833333333333,18.97083333333333,24.0,22.0125,24.6,18.729166666666668,24.73333333333333,24.5,25.7,20.570833333333333,26.1,21.133333333333333,19.508333333333333,25.666666666666668,21.0,25.4,26.1,22.2,25.2,24.6,24.8,26.1,23.33333333333333,26.0,21.0,25.0,20.82916666666667,22.4,26.6,28.450000000000003,20.1,21.5,23.23333333333333,18.9,25.0,20.4,25.5,24.3,26.7,26.9,23.2125,20.6,25.8,20.4,24.3,26.1,21.9,23.3,26.6,21.6,26.3,24.4,25.5,24.5,24.1,23.9,25.0,25.9,21.7,22.3,20.4,22.35,22.6,22.329166666666666,23.5,25.2,18.5,24.5,20.4,26.1,25.5,20.8,19.933333333333334,24.0,26.266666666666666,23.27083333333333,24.3,22.866666666666664,25.4,24.8,23.700000000000003,25.5,24.2,23.7,20.8875,24.8,24.700000000000003,18.8,20.3,26.8,20.9,20.491666666666667,24.9,24.6,24.0,21.2,22.4,27.4,23.0,23.2,21.33333333333333,27.0,25.5,20.5,23.1,21.2375,23.6,23.0,23.700000000000003,18.3875,21.8,26.0,18.53333333333333,24.066666666666663,21.6,20.1,23.6,25.6,18.866666666666667,25.8,23.2,18.14583333333333,22.508333333333336,23.2375,20.4,21.7,20.8,28.0,20.5,24.2,26.5,24.5,21.129166666666663,23.04583333333333,24.6,21.2,23.8,20.6,20.73333333333333,22.200000000000003,21.77083333333333,22.0,27.0,23.666666666666668,22.704166666666666,24.666666666666668,20.3,28.55,19.6125,19.133333333333333,24.7,25.7,27.3,21.0,21.7,25.1,21.4,20.6,18.6,23.7,22.3,25.5,25.5,21.4,22.4,25.8,22.0,24.9,26.5,21.0,18.46666666666667,20.0,20.46666666666667,21.8,26.1,30.6,24.200000000000003,23.8,20.9,22.1,20.4,20.9,22.6,25.1,24.0,23.2,22.933333333333337,22.8,26.6,21.933333333333334,20.133333333333333,23.133333333333336,25.8,20.0,24.266666666666666,23.700000000000003,19.5,24.3,23.416666666666668,22.48333333333333,21.9875,25.0,20.3,21.6,25.27142857142857,27.200000000000003,25.7,26.1,24.4,27.65,21.59166666666667,21.008333333333333,21.4875,21.9,20.3,25.5,24.8,22.6,24.7,22.200000000000003,19.933333333333334,20.5,22.479166666666668,21.8,19.2,25.016666666666666,24.1,24.96666666666667,27.5,21.2,23.6,20.40833333333333,28.0,22.5,20.4,19.200000000000003,26.1,27.0,20.933333333333334,24.2,24.1,21.4,20.7,23.1,20.5,23.8,22.9,26.65,26.1,25.6,21.3,21.6,19.6,25.7,26.7,24.8,21.1,25.6,23.200000000000003,27.700000000000003,24.5,26.0,25.0,25.7,24.2,23.2,28.0,22.9,25.9,24.516666666666666,21.0,23.0,26.6,19.570833333333333,22.2,21.1,25.2,22.9,27.5,21.1,20.8,25.625,23.1,25.5,21.34583333333333,19.995833333333334,19.0,23.133333333333336,24.7,20.654166666666665,18.704166666666666,24.4,20.3,24.0,20.7,21.9,22.5,22.504166666666663,24.8,19.933333333333334,21.9,24.5,21.8,22.579166666666666,20.0,24.0,19.4,21.03333333333333,18.266666666666666,22.4,25.8,26.2,26.0,22.6,23.3,26.5,22.5,23.4,23.7,25.4,23.8125,22.1,27.633333333333336,23.2,22.0,20.3,20.53333333333333,18.791666666666668,24.179166666666664,23.73333333333333,18.2,20.933333333333334,28.15,20.4,26.6,23.5,26.0,23.4,21.200000000000003,23.0,22.33333333333333,24.200000000000003,28.0,24.8,22.866666666666664,20.9,23.3,19.866666666666664,22.945833333333336,18.1,18.3,23.5,23.29583333333333,22.1,23.1,27.65,19.5,25.9,19.4,25.8,21.9,21.616666666666664,25.875,25.2,20.325,23.5,22.0,22.266666666666666,21.891666666666666,23.2,26.1,19.691666666666663,23.9,24.5,23.0,24.2,19.5,21.8,23.6125,24.8,19.9,27.9,26.6,18.2,26.7,24.0,23.508333333333336,23.3,19.33333333333333,24.066666666666663,24.3,25.2,26.4,24.200000000000003,24.200000000000003,21.4,23.2,20.7,20.0,21.5,22.2,20.5,21.8,18.53333333333333,24.7,25.8,26.75,19.941666666666663,25.33333333333333,26.1,21.8,20.933333333333334,17.995833333333334,21.9,18.9,21.4,21.2,28.0,22.0,23.73333333333333,26.9,23.5,25.5,19.3,20.7,25.5,25.0,24.1,22.1,20.0,24.1,22.933333333333334,22.8,23.5,27.0,24.9,19.6,19.1,26.8,22.5,24.3,25.066666666666663,22.20833333333333,25.8,20.8,22.73333333333333,22.98333333333333,19.433333333333334,25.9,24.8,21.6,25.7,26.3,24.33333333333333,27.5,27.0,25.066666666666663,21.46666666666667,27.2,23.7,18.7,22.6,24.5,20.8,27.46666666666667,21.666666666666668,26.2,26.8,19.9,23.266666666666666,25.4,25.5,21.933333333333334,20.22083333333333,22.866666666666664,21.9,26.6,20.3,23.28333333333333,25.700000000000003,23.85833333333333,24.2,19.2,22.3,22.8625,21.2,27.35,20.0,22.6,21.0,24.02083333333333,24.4375,22.0,25.2,24.5,19.0625,20.0,23.7,21.379166666666663,25.5,22.7,25.9,26.5,22.700000000000003,25.6,20.1,26.2,26.3,28.85,22.0,23.8,20.758333333333333,27.4,26.2,19.120833333333334,26.2,22.0,24.15,25.2,22.65416666666667,25.0,24.6,26.4,22.9,21.200000000000003,22.0,27.0,20.9,19.6,24.8,23.3,21.975,25.4,24.9,24.5,27.2,25.1,22.4,23.1,18.570833333333333,19.14583333333333,25.7],\"xaxis\":\"x\",\"y\":[27.13542509995144,20.338940598427822,26.343186291607374,17.866233287329933,21.670682397877165,28.08921193736487,19.325107810133943,21.53479633497105,19.040412975846028,21.364575186376694,20.924806795403267,23.976388693828994,25.164830808325398,22.363758624268613,22.29990635695616,24.204391836953608,26.274779010058424,24.371339199373026,24.020783639186025,24.73027549526739,18.58054714107687,22.59606414892798,23.036020811971596,21.37695817657601,20.62585188845034,24.592539313313996,24.475532708407894,20.78307089358203,22.640613319777547,20.949495835164612,24.684732551672752,24.35033131252827,23.11174117675646,24.91409260073526,18.292284111708188,22.422215388420064,25.796132812745327,25.757654606068055,22.825360030314894,19.65049217143571,22.306376279363054,24.06327763668604,24.62177913424438,24.841631382661053,22.97649684304799,23.99397759136859,24.160695344719354,24.15528874771746,19.03207545183119,23.421146721768245,23.47854735646646,24.412465196905114,25.51544960941108,21.739380924954546,24.610665469647074,22.68468381082083,22.587248280983765,21.5995414472751,20.746004107687384,23.080055768520996,22.913377934605975,19.762349654660174,19.0581170016943,22.570565445011137,24.038117744487536,22.595432299638368,21.770770940681466,24.79242462009357,22.80312238842759,22.883395585293847,20.35818135488517,18.939912891375588,23.823011447567712,24.288232564416532,18.115443591000506,21.312997606469626,21.41378715178381,23.921917792052014,26.17024702945428,23.509300578595305,21.328604682964052,26.9204649750266,25.96901484997948,24.01284552596855,24.578762052908186,19.276498256826656,22.469119251279448,22.915933926870025,26.036707364447942,20.035059437369238,20.72488288831494,22.642019737122173,21.266592134593587,24.655403994683407,22.9329147497043,21.336333990402807,25.573645347223927,23.349640706341496,19.945812777851287,25.15096507098606,24.644108442543175,23.265002665487735,23.753282081199004,21.032466414508292,23.200190777988325,24.714038559992467,18.928329418065587,20.014997200899252,25.276222255518114,23.540216243058325,21.905658105172137,26.588465847274342,25.02402848465941,25.811523384583115,22.08783284591874,25.473435943386008,26.169086218092595,21.996642300184984,26.65887726082405,18.932003132238542,22.489744604916144,27.25656145026563,22.823964951722306,23.34716007092043,24.174094142518086,23.170598205258372,24.50006635478822,24.23707444079315,23.123939584152062,26.064256747240133,20.339499926500608,22.198683241575672,24.356950218807096,22.68661001253099,25.021972910905312,21.184029257767662,24.90640999033877,20.125816304138382,22.446197683442463,21.66360763705406,24.76083096977584,26.5957512443998,19.008998972648847,20.611532098633624,22.471364287063867,25.648871786683475,20.401389967730122,24.157689366786013,22.340100661690126,21.0388717890173,19.690033831429645,22.66847013367052,24.515631119832605,23.626785825654153,25.98854600323999,24.921445769565064,24.83087316584642,22.70836425751947,26.059897604046064,23.713195058422595,23.87391330325013,22.892908295420177,25.394586273842037,19.22989835474988,22.78490647786325,23.121050095561706,24.742699901043746,25.245709318779973,20.515853619270125,24.560382778042346,19.501367849866412,24.271245187427148,22.228262772726577,25.582913363172143,20.48925121563692,24.87528011303112,18.410904936053957,21.303862679482258,20.718482657216377,18.934163915408696,26.301318275990926,21.872114985706716,21.384459889674446,23.981136586413626,20.148622611069896,25.265990553087786,21.709692936664744,19.556903743750134,25.495404917453484,23.75753353278839,21.48033279523665,20.886198289020776,22.371364528564936,26.31845677537515,19.16155937012951,26.611374070609315,20.691967214541712,21.456892211523208,22.19583507145324,19.487863271294305,21.83945518736751,24.287967435823486,19.800958839332143,20.83909960440501,23.927077370448178,26.10985042745966,20.603762472867643,23.94991750226281,25.027201639696603,22.854559853731715,19.876081835883497,23.63716957260586,23.7429151571126,25.232811960866567,25.4286655676748,21.819483768550185,23.257500895354458,20.318244547155288,24.190642158930444,21.155116181150703,23.24664585551403,21.83331782150274,25.409029433302322,19.800749661610247,18.48553932961486,25.108351690550567,25.44571302136165,23.773096297398382,22.022360113459897,24.221039780689715,24.736548553823365,22.83357997989277,23.659095261424863,23.242393676687982,24.076636704356304,20.70947148908946,23.919245421239246,22.907251856868612,22.601017273435648,21.358230275037172,21.736381134667536,23.726387634407654,25.510219415808617,21.86198048782054,19.72018376427071,25.98630134061219,22.30458358765737,25.076982297414908,24.24491530469437,20.96733272340512,23.549330085515912,24.637190692169444,21.412035183791843,19.924986345875006,24.237170634868647,23.54571715622037,23.240086867758244,25.945742983918702,22.905930812203792,23.248195960556238,21.744012114912184,22.08181088810188,20.817921457341352,23.65771240792478,25.213430556019446,20.63225738108975,24.005369368223903,21.31793897362145,25.34727913300445,21.27771561505358,22.53837235475796,23.65285162401835,21.602013416012074,22.403208165289765,24.819309455634567,21.273770174480195,26.18562645953611,22.640099239961824,25.691682292215507,24.032175528215557,21.356122930628082,23.405585781918305,23.834244980093995,23.22535478933923,24.0954911012914,26.655944454973714,24.989647068844473,19.267611893845082,25.353053336210895,22.738038944825476,21.830057130046125,19.49900774252033,25.030541760922315,25.0604000923082,23.941499749509838,19.661433821658843,24.221731156215945,26.02473711182245,24.647040722859906,24.50656611970998,22.984927863144527,22.45594493759251,19.340822980165203,25.2892204823298,24.168208945503828,20.49133525687058,22.15031382400477,25.352303301903785,24.2439176690041,23.97425163297552,24.447195093432175,22.097675598626815,22.715105889521833,21.144312449655107,24.80118665687486,24.998371542786575,23.37805877072985,20.814391584052707,19.711833630861488,24.307366665362064,25.095019535866573,25.02978229754973,20.751368848874257,24.158689928916225,20.875788496129317,24.24471185715774,22.281160186846147,19.540319950721035,27.057213864430466,21.161073616530516,24.00339135708667,23.407075321034707,23.54538017625895,20.528099231210117,27.17719937882724,25.013786320242204,26.34543506734953,24.147709472894988,20.6562630179886,25.517206282546155,22.39365779449767,23.038391188798528,21.285766614714806,24.316131438287616,19.354456770752222,22.846877581516647,20.934236314226062,26.433419785255232,26.960728500920926,22.104809924011068,21.564299604670744,25.584461313646795,21.829481524672513,25.902352474841145,21.832596076512285,23.107052297813073,24.637260506670312,23.191413698241654,22.70422005414841,22.438550196462167,22.145923163512787,24.43235292759057,18.76046220679141,20.107531099914198,21.400159208232253,20.230084806426614,25.594966981195824,25.258349531327838,21.18704726557133,22.217959765092143,23.718871284587994,22.894732702701702,25.15309430617847,23.792550733315007,21.066055231337078,20.77626061339762,21.78991565247074,21.485669176534405,23.34384235672717,22.70225941462252,19.924541145189362,22.571114863136174,19.157888233445625,23.663394957841,21.809620339956272,21.825218414168216,22.71433855316722,25.664372185082396,24.913275173885822,19.537903708793976,26.371219464605673,25.64585095137696,23.534753990400844,19.967687491476525,24.588104433859623,23.871581585178344,18.11489474952769,25.99302214995968,22.143291904648404,22.296712026595014,24.90001938266101,21.905581630182432,23.452701451180662,22.22819299199766,24.704865381365195,25.245495908886863,20.0348954207884,25.55527681835101,21.070131242363026,23.57616128075151,21.850051031892278,25.888871790422947,21.900996332518524,22.446872701180745,19.120666619596285,23.935779803936207,20.39444016957281,24.279545048144147,20.565232450838344,24.892121717415012,23.6195308983629,23.618357977385912,20.587303768533527,25.474372244243405,17.901589607011992,19.471979043469915,22.41899557063666,21.634127466085097,26.521069035729354,20.88365070825533,22.32167309453287,20.75678848657222,23.975763039099096,26.274981889765773,18.385028262003658,19.59803265837687,24.726931269736163,24.564844922779308,20.240682479374257,20.18523126516773,25.193624476087088,22.66076570037102,20.19091731608359,20.934712242008743,20.370182240580927,25.13731216592821,21.79348206618241,22.642297191340226,20.083162583419316,25.462174245598682,23.90950143801746,25.688307716515574,22.005819084811275,25.341688570973915,22.23318802110176,21.05014522197986,25.12009079405318,19.609834788402566,25.352062141808073,25.010309266475662,22.41172331169632,24.124320939155577,25.46773139620837,25.228412242220095,25.343162505793934,24.128211951029744,25.35167604653734,22.839377956035833,24.529871133603358,22.96761284566935,24.077305330276378,26.470162704994195,25.232379470609356,22.042161410367033,22.330168052967487,24.364329011553384,18.395226699334074,24.502929488910794,21.01746636025541,24.573119033684605,23.300925615783658,25.775016343009852,26.763832313039636,22.801780459928004,21.269471993664315,26.40218008958565,22.885587581055137,24.39227230808979,25.39897317957567,22.231994303487678,24.168376296800176,26.29812920531362,22.97718652935838,24.469418910800997,24.626491637397223,23.690691467149453,23.088154671775094,25.235789312137477,23.238840572279933,24.263146399719698,24.937665908724224,19.954460049258333,20.936205175396115,21.872171591583836,24.080697888578715,24.229038160292404,24.297376680116944,23.55449068033437,25.02509978911944,19.41426357782582,22.563243584440198,23.90251133416167,24.746530748960186,24.824701300143733,21.192977737813955,20.886305566949275,25.377349354408565,24.550772327462717,23.092071526345446,22.846790377710832,23.768996396082017,24.49237264066652,24.330692098090026,22.962187286104484,25.193127486297843,23.559239439656746,24.089712421542313,23.080406603892282,24.930864220578783,22.636293576558508,18.76458694423607,22.571165599229253,26.19663223122773,20.48109532207542,20.91309061227498,24.856167616524722,23.12754970626614,21.587948586389903,21.859367368296375,21.595780228185657,25.669902537451314,24.061269299343387,23.914609786901263,23.000284030994525,26.405975018057656,24.381594572894027,20.38465079725906,22.97787901261899,20.238231045258484,23.644524530377424,23.9792186593926,24.285602696434903,19.61078717096848,23.381735227919155,25.38493472015512,19.56507521340418,24.793800513303076,20.55410024524062,19.795972019625292,21.966244486816965,25.19518947870033,18.780300738118747,24.62834055500404,23.02354425649267,18.54647552186984,23.036878303370102,24.64025266191117,18.27840773700318,22.983190437199646,22.223765981294797,27.57852060431226,20.638781350936696,25.060216753540583,25.939310655309725,24.323181929534723,19.419311034215376,22.913520386047104,22.066144026356223,23.697680835641165,24.142806333380697,19.096236467917137,20.549024399931113,22.09130992212078,21.834245393269047,22.793522849984534,25.90907466394502,25.081807613910588,23.686599274963932,23.489069442770557,21.480911685401733,27.184932991551676,21.40859232679524,19.446252300481927,23.483778379837666,25.319720747279163,24.33687561677943,20.490333901077992,22.14089635591144,24.81857899962981,24.933813780981396,20.685960019166806,18.937628635779973,23.37187033831151,22.877476669980037,24.89981928814213,23.95492813440868,22.827395310112372,21.447974048641463,24.792288353060947,20.822813411906385,25.42902663699994,23.554205573553872,21.596420290588732,20.756951985753325,22.197852584963808,20.871491982216128,21.920355826393624,25.099918022812073,27.08191507272226,23.079214990085056,23.010591145913164,22.725523272696595,22.135144901578247,18.62428628818281,22.676824759722997,23.136037656199868,24.339209731116252,21.96798251297236,21.945548830193065,23.456109021855784,23.95952757507088,25.866290084602266,24.40833898173206,20.959131080994478,23.413714689633185,25.435995524873828,17.914012783237393,25.213563036192884,23.230251701718664,20.207220881321323,24.571069575840262,24.029173558901086,20.908993395327784,23.92734314291706,25.525337924471547,20.520657329940036,20.519698541379235,24.513148357402684,25.23386502596542,26.03571558818862,24.40079202391343,24.622888776384876,26.40844097332429,23.18501849716293,19.372745929005884,20.18467845570743,19.557429736217145,19.090269722715703,28.364620348915842,24.27349287766911,21.91430049754474,25.697010806708136,22.080642648955987,19.527891803117654,19.837466225248008,23.66031677134844,22.579515807857774,19.43628239002706,25.12959276596051,25.252630115739745,24.294379732614008,25.69929909982398,23.56319818576033,22.517132067553042,19.521474233134512,27.38819878104332,21.128574185421563,19.523027249929203,18.90540724871493,24.905508551843372,25.83536390009031,21.1621884275796,23.89101862303582,24.01284342893967,22.53644808091298,22.510940164923376,23.651942294956427,22.813950126877046,21.164230143545826,23.14209788243119,26.253619776134826,25.91845920254613,25.18285009445326,21.304624804170295,23.064839478089723,20.232563164923057,24.04400792543872,26.375269542035706,24.860472187844973,20.067312253677763,22.07650646144151,23.70208139476238,27.919501688397165,23.929477439238056,25.626309643067785,23.708956581111785,24.8033639933312,25.20009906856609,21.22349892552806,26.93721653733735,23.79663105108598,25.32883496243369,23.805899921503723,21.456975062870494,22.027530605018224,24.76220564386065,21.22698528522228,22.995445609437084,23.150559249821857,25.377867691825223,22.474169253194844,26.437097714292904,22.37665688428194,22.21519995907143,24.627202084267033,24.302176510577585,24.43287670546157,23.347179370665696,19.972570863289896,21.21338117437533,24.123359646044914,26.095355014894253,22.863525244518488,20.208233682542822,21.22644248349644,22.311579821545656,22.46922706697642,19.867882909882443,22.681218094620366,22.29697900360692,24.26729198218633,24.21782724453891,19.971671600165706,20.88111902153913,25.04058055995671,23.40860285491295,19.94591600680223,17.940465595300594,24.61063619808722,21.33338656419236,23.40865878337856,18.708463936310828,19.96063495526658,25.20003593888703,25.753702109661873,25.297220491918978,23.68870103254599,23.411278734335266,25.866250913760204,22.76616459125491,22.22463058150639,24.81342494243726,25.141993398839794,25.27438827110109,23.639961355046495,24.90030454463778,20.65120301289648,24.3862673263931,18.697659128012983,21.160737421902304,19.497188389935772,24.64442621065405,22.659231477169865,19.267198591485705,20.93948740286943,25.529853403645635,21.72857018006387,26.91283205349643,24.546265281726612,26.09337055690257,23.616008422660357,21.38847285777991,23.528439799545154,23.730643452153934,21.34467909113045,26.196467615255294,24.444304384919533,24.77448521115263,19.923744735393747,22.760238445927445,20.609502500945467,23.393524330771356,18.51587597013311,20.97506003567801,23.68348907786093,22.51566029618882,24.146506131243648,20.955641974880656,26.772620248950574,22.743242663584127,23.438897842005385,19.54214676291125,25.44406494714223,21.878776014744847,22.468203608888537,25.37382669040455,25.81817218625839,22.163680991051187,23.24696518330364,22.881433162736,23.5590855045588,23.91348928527495,23.954348853837644,26.17385407827896,20.13665686325895,23.748447285053373,24.196065143780057,22.508389762877936,22.481717403442122,19.960078436780137,23.340206192382404,23.155172244977553,25.02325682883394,21.46716033632464,26.91297556308562,24.519565303072262,18.770657029640375,25.998850108774622,23.797077966415916,22.943786604420914,21.561810858743797,21.28684797243668,25.12745877118095,24.041330993332217,24.116163795693595,25.42504662174759,24.591357060922515,22.23618287568724,22.36803931767902,22.51252184009524,19.4857096260238,21.83341660211515,18.939252457793817,23.2362246809527,20.563305635689638,24.329085133132597,20.02826905485348,25.312022878952142,25.01140077794512,24.16613329722696,20.762342651126737,24.998824423871405,26.61176966212579,19.36014130012688,21.95377957784519,18.992571881448495,23.295582860273214,17.91556616295151,21.31118985391479,21.168567383454285,25.167539448123026,23.876560240519165,24.4603789768704,25.430051261577475,22.004012881290407,23.715632141165365,18.055213988099965,23.778170142430398,25.322067323952133,23.655208426923775,23.718992441046844,21.88642504677656,19.90189504570141,24.683438967987385,24.325096367928964,21.35875374393954,20.247644903386565,25.465331231475304,22.80587938975602,18.888303548836596,18.629399755997266,26.695733434497985,21.99158867425551,22.273908786629093,24.848649737113046,20.83573362938742,25.22320313902402,20.875250138912357,22.63368877307038,24.186860543477145,19.928508062706612,25.30045295176428,23.50225189311174,21.58429857566021,25.36626769497541,25.72908782701564,23.96808334851388,26.568088904896303,25.56214569043596,24.382987066440972,22.53315194240196,27.01459276495461,24.586038165745695,19.38771324224057,23.90951501543715,23.31002331467881,23.642838443677803,25.341839273720353,18.837747022824775,25.587591185089753,25.502888794164953,21.26223984815998,22.764748008831468,24.850075349078285,25.188455753092207,23.246175588480238,22.432601878918632,22.612972536209078,22.48712128892959,23.611924290896173,19.688267135728783,24.19230461859632,25.425398989905162,21.964153234717145,22.014463381712375,18.925823632385153,21.035661949958765,23.914373738571413,22.62064262346366,26.310569246559872,21.923805155252392,23.56352040954564,23.267041112247,23.591059323983256,24.397597437151042,20.489606167085604,25.468153745467234,24.52835058242206,21.51378088354887,19.266916895619573,23.64304105133219,22.84681752125957,24.926839657740683,24.858861146160088,25.774432390930773,26.35498227572576,22.908502507767302,24.42506312440644,22.12064066702254,25.342468437574006,24.8900808874681,25.487014683067077,23.252492715259304,24.67732725254158,20.676559942752306,25.2890670815189,24.99483285024575,21.25409029403547,25.87168276854978,21.54046204142757,25.402887880435692,24.02790057146242,23.252010844389222,25.650846987439078,24.531599452728102,25.17215761920597,23.176475652012083,20.91759724941869,21.797582932652926,26.613239503944722,21.036794772565607,18.424602778937768,23.587741696412774,24.095036385492783,19.97370913809729,25.36266504845348,22.840003228674675,24.44024333375031,26.09662206569684,24.8085556442911,21.071267242288087,23.235098366118812,21.543111600990073,20.085672739068364,24.680592336020947],\"yaxis\":\"y\",\"type\":\"scatter\"},{\"hovertemplate\":\"<b>OLS trendline</b><br>y = 0.731017 * x + 6.20339<br>R<sup>2</sup>=0.741415<br><br>x=%{x}<br>y=%{y} <b>(trend)</b><extra></extra>\",\"legendgroup\":\"\",\"line\":{\"color\":\"darkblue\"},\"marker\":{\"color\":\"#636efa\",\"symbol\":\"circle\"},\"mode\":\"lines\",\"name\":\"\",\"showlegend\":false,\"x\":[17.412499999999998,17.599999999999998,17.720833333333335,17.816666666666666,17.9,17.958333333333332,17.995833333333334,18.0,18.075,18.1,18.1,18.14583333333333,18.2,18.2,18.2,18.266666666666666,18.3,18.379166666666663,18.3875,18.4,18.4,18.4,18.4375,18.45833333333333,18.46666666666667,18.5,18.5,18.5,18.53333333333333,18.53333333333333,18.570833333333333,18.6,18.6,18.6,18.6,18.6,18.654166666666665,18.666666666666668,18.6875,18.695833333333333,18.7,18.7,18.7,18.704166666666666,18.729166666666668,18.78333333333333,18.791666666666668,18.8,18.8,18.866666666666667,18.9,18.9,18.97083333333333,18.97083333333333,19.0,19.058333333333334,19.0625,19.1,19.1,19.120833333333334,19.133333333333333,19.14583333333333,19.17083333333333,19.2,19.2,19.2,19.2,19.2,19.2,19.200000000000003,19.3,19.3,19.3,19.304166666666667,19.33333333333333,19.35833333333333,19.3875,19.4,19.4,19.4,19.4,19.4125,19.433333333333334,19.466666666666665,19.46666666666667,19.5,19.5,19.5,19.5,19.5,19.508333333333333,19.53333333333333,19.570833333333333,19.6,19.6,19.6,19.6,19.60833333333333,19.6125,19.666666666666668,19.691666666666663,19.7,19.7,19.7,19.779166666666665,19.7875,19.8,19.8,19.866666666666664,19.866666666666667,19.9,19.9,19.9,19.9,19.933333333333334,19.933333333333334,19.933333333333334,19.933333333333334,19.941666666666663,19.954166666666666,19.966666666666665,19.995833333333334,20.0,20.0,20.0,20.0,20.0,20.0,20.0,20.0,20.0,20.0,20.0,20.004166666666663,20.08333333333333,20.1,20.1,20.1,20.1,20.1,20.1,20.133333333333333,20.2,20.2,20.200000000000003,20.22083333333333,20.26666666666667,20.3,20.3,20.3,20.3,20.3,20.3,20.3,20.3,20.3,20.3,20.3,20.325,20.33333333333333,20.391666666666666,20.4,20.4,20.4,20.4,20.4,20.4,20.4,20.4,20.4,20.4,20.404166666666665,20.40833333333333,20.46666666666667,20.491666666666667,20.5,20.5,20.5,20.5,20.5,20.5,20.5,20.5,20.5,20.53333333333333,20.570833333333333,20.6,20.6,20.6,20.6,20.6,20.6,20.654166666666665,20.654166666666665,20.666666666666668,20.666666666666668,20.7,20.7,20.7,20.7,20.7,20.7,20.7,20.7,20.7,20.700000000000003,20.700000000000003,20.716666666666665,20.73333333333333,20.73333333333333,20.758333333333333,20.8,20.8,20.8,20.8,20.8,20.8,20.8,20.8,20.8,20.82916666666667,20.8875,20.9,20.9,20.9,20.9,20.9,20.9,20.933333333333334,20.933333333333334,20.933333333333334,20.933333333333334,20.9375,21.0,21.0,21.0,21.0,21.0,21.0,21.0,21.0,21.0,21.0,21.0,21.0,21.0,21.0,21.0,21.004166666666663,21.008333333333333,21.029166666666665,21.03333333333333,21.1,21.1,21.1,21.1,21.1,21.1,21.1,21.1,21.129166666666663,21.133333333333333,21.133333333333333,21.14583333333333,21.2,21.2,21.2,21.2,21.2,21.2,21.2,21.2,21.2,21.200000000000003,21.200000000000003,21.200000000000003,21.2125,21.2375,21.266666666666666,21.3,21.3,21.3,21.33333333333333,21.34583333333333,21.3625,21.379166666666663,21.4,21.4,21.4,21.4,21.4,21.4,21.4,21.4,21.4,21.46666666666667,21.4875,21.5,21.5,21.5,21.5,21.5,21.5,21.504166666666663,21.570833333333336,21.59166666666667,21.6,21.6,21.6,21.6,21.6,21.6,21.6,21.6,21.6,21.6,21.6,21.616666666666664,21.666666666666668,21.6875,21.7,21.7,21.7,21.7,21.7,21.729166666666668,21.77083333333333,21.8,21.8,21.8,21.8,21.8,21.8,21.8,21.8,21.8,21.8,21.8,21.8,21.8,21.825,21.84166666666667,21.883333333333336,21.891666666666666,21.89583333333333,21.9,21.9,21.9,21.9,21.9,21.9,21.9,21.9,21.9,21.9,21.9,21.9,21.9,21.933333333333334,21.933333333333334,21.933333333333334,21.945833333333336,21.975,21.9875,22.0,22.0,22.0,22.0,22.0,22.0,22.0,22.0,22.0,22.0,22.0,22.0,22.0,22.0,22.0,22.0,22.0125,22.025,22.058333333333334,22.1,22.1,22.1,22.1,22.1,22.1,22.1,22.1,22.2,22.2,22.2,22.2,22.2,22.2,22.2,22.2,22.2,22.200000000000003,22.200000000000003,22.20833333333333,22.266666666666666,22.3,22.3,22.3,22.3,22.304166666666664,22.329166666666666,22.33333333333333,22.35,22.4,22.4,22.4,22.4,22.4,22.4,22.4,22.479166666666668,22.48333333333333,22.5,22.5,22.5,22.5,22.5,22.5,22.5,22.5,22.5,22.5,22.5,22.5,22.504166666666663,22.504166666666663,22.508333333333336,22.579166666666666,22.6,22.6,22.6,22.6,22.6,22.6,22.6,22.6,22.6,22.6,22.65416666666667,22.675,22.7,22.7,22.7,22.7,22.700000000000003,22.704166666666666,22.73333333333333,22.73333333333333,22.77916666666667,22.8,22.8,22.8,22.8,22.8,22.8,22.8,22.8,22.8,22.8625,22.866666666666664,22.866666666666664,22.866666666666664,22.89583333333333,22.9,22.9,22.9,22.9,22.9,22.9,22.9,22.9,22.9125,22.933333333333334,22.933333333333337,22.945833333333336,22.945833333333336,22.954166666666666,22.98333333333333,23.0,23.0,23.0,23.0,23.0,23.0,23.0,23.0,23.0,23.025,23.04583333333333,23.05,23.05,23.066666666666663,23.066666666666663,23.1,23.1,23.1,23.1,23.1,23.1,23.1,23.116666666666664,23.133333333333336,23.133333333333336,23.2,23.2,23.2,23.2,23.2,23.2,23.2,23.2,23.200000000000003,23.200000000000003,23.20833333333333,23.2125,23.23333333333333,23.2375,23.266666666666666,23.27083333333333,23.28333333333333,23.29583333333333,23.3,23.3,23.3,23.3,23.3,23.3,23.3,23.3,23.3,23.3,23.3,23.33333333333333,23.33333333333333,23.33333333333333,23.4,23.4,23.4,23.4,23.4,23.416666666666668,23.46666666666667,23.46666666666667,23.5,23.5,23.5,23.5,23.5,23.5,23.5,23.508333333333336,23.53333333333333,23.53333333333333,23.6,23.6,23.6,23.6,23.6,23.6125,23.666666666666668,23.7,23.7,23.7,23.7,23.7,23.7,23.7,23.7,23.700000000000003,23.700000000000003,23.700000000000003,23.700000000000003,23.70833333333333,23.73333333333333,23.73333333333333,23.8,23.8,23.8,23.8,23.8,23.8,23.8,23.8125,23.85833333333333,23.866666666666664,23.9,23.9,23.9,23.933333333333334,24.0,24.0,24.0,24.0,24.0,24.0,24.0,24.0,24.0,24.0,24.0,24.02083333333333,24.066666666666663,24.066666666666663,24.1,24.1,24.1,24.1,24.1,24.10833333333333,24.15,24.15416666666667,24.179166666666664,24.2,24.2,24.2,24.2,24.2,24.2,24.2,24.2,24.2,24.2,24.2,24.2,24.200000000000003,24.200000000000003,24.200000000000003,24.200000000000003,24.200000000000003,24.211111111111112,24.266666666666666,24.28333333333333,24.3,24.3,24.3,24.3,24.3,24.3,24.3,24.3,24.3,24.33333333333333,24.33333333333333,24.4,24.4,24.4,24.4,24.4,24.4,24.4,24.4375,24.46666666666667,24.5,24.5,24.5,24.5,24.5,24.5,24.5,24.5,24.5,24.5,24.5,24.5,24.5,24.5,24.5,24.5,24.516666666666666,24.53333333333333,24.6,24.6,24.6,24.6,24.6,24.6,24.666666666666668,24.7,24.7,24.7,24.7,24.7,24.7,24.700000000000003,24.700000000000003,24.73333333333333,24.8,24.8,24.8,24.8,24.8,24.8,24.8,24.8,24.8,24.8,24.8,24.8,24.8,24.8,24.8,24.8,24.8,24.9,24.9,24.9,24.9,24.9,24.9,24.9,24.9,24.96666666666667,25.0,25.0,25.0,25.0,25.0,25.0,25.0,25.0,25.0,25.0,25.016666666666666,25.066666666666663,25.066666666666663,25.1,25.1,25.1,25.1,25.1,25.1,25.1,25.1,25.1,25.1,25.1,25.2,25.2,25.2,25.2,25.2,25.2,25.2,25.2,25.2,25.2,25.2,25.2,25.200000000000003,25.266666666666666,25.27142857142857,25.3,25.3,25.3,25.3,25.33333333333333,25.33333333333333,25.4,25.4,25.4,25.4,25.4,25.4,25.4,25.4,25.4,25.46666666666667,25.5,25.5,25.5,25.5,25.5,25.5,25.5,25.5,25.5,25.5,25.5,25.5,25.5,25.5,25.5,25.5,25.5,25.5,25.5,25.5,25.5,25.6,25.6,25.6,25.6,25.6,25.6,25.625,25.666666666666668,25.7,25.7,25.7,25.7,25.7,25.7,25.7,25.7,25.7,25.7,25.7,25.7,25.7,25.7,25.700000000000003,25.700000000000003,25.8,25.8,25.8,25.8,25.8,25.8,25.8,25.8,25.8,25.8,25.8,25.8,25.8,25.8,25.8,25.8,25.875,25.9,25.9,25.9,25.9,25.9,25.9,25.9,25.9,25.9,25.9,25.933333333333334,26.0,26.0,26.0,26.0,26.0,26.0,26.0,26.0,26.0,26.0,26.0,26.0,26.1,26.1,26.1,26.1,26.1,26.1,26.1,26.1,26.1,26.1,26.1,26.1,26.1,26.1,26.2,26.2,26.2,26.2,26.2,26.2,26.2,26.2,26.2,26.266666666666666,26.3,26.3,26.3,26.3,26.3,26.3,26.3,26.4,26.4,26.4,26.4,26.4,26.5,26.5,26.5,26.5,26.5,26.5,26.5,26.5,26.6,26.6,26.6,26.6,26.6,26.6,26.6,26.6,26.64,26.65,26.65,26.65,26.7,26.7,26.7,26.7,26.75,26.8,26.8,26.8,26.8,26.9,26.9,26.9,26.9,26.9,27.0,27.0,27.0,27.0,27.0,27.0,27.0,27.0,27.0,27.0,27.0,27.0,27.1,27.1,27.1,27.2,27.2,27.2,27.2,27.2,27.200000000000003,27.3,27.3,27.35,27.4,27.4,27.46666666666667,27.5,27.5,27.5,27.5,27.5,27.633333333333336,27.65,27.65,27.65,27.7,27.700000000000003,27.9,27.9,28.0,28.0,28.0,28.0,28.0,28.0,28.15,28.3,28.450000000000003,28.55,28.8,28.85,29.05,30.6],\"xaxis\":\"x\",\"y\":[18.93222360794648,19.06928933787905,19.15762058605782,19.22767640357891,19.288594505771165,19.33123717730574,19.358650323292256,19.36169622840187,19.416522520374897,19.434797951032575,19.434797951032575,19.46830290723831,19.507899673663278,19.507899673663278,19.507899673663278,19.556634155417083,19.581001396293985,19.638873593376623,19.64496540359585,19.654103118924688,19.654103118924688,19.654103118924688,19.681516264911203,19.696745790459264,19.702837600678492,19.727204841555395,19.727204841555395,19.727204841555395,19.751572082432293,19.751572082432293,19.778985228418808,19.800306564186098,19.800306564186098,19.800306564186098,19.800306564186098,19.800306564186098,19.83990333061106,19.849041045939902,19.864270571487964,19.87036238170719,19.8734082868168,19.8734082868168,19.8734082868168,19.876454191926413,19.894729622584094,19.934326389009055,19.940418199228283,19.946510009447508,19.946510009447508,19.995244491201312,20.01961173207821,20.01961173207821,20.071392118941628,20.071392118941628,20.092713454708917,20.135356126243494,20.138402031353106,20.165815177339624,20.165815177339624,20.181044702887686,20.190182418216523,20.19932013354536,20.217595564203037,20.238916899970327,20.238916899970327,20.238916899970327,20.238916899970327,20.238916899970327,20.238916899970327,20.238916899970327,20.31201862260103,20.31201862260103,20.31201862260103,20.315064527710646,20.33638586347793,20.354661294135607,20.375982629902897,20.385120345231734,20.385120345231734,20.385120345231734,20.385120345231734,20.394258060560574,20.40948758610864,20.433854826985538,20.43385482698554,20.45822206786244,20.45822206786244,20.45822206786244,20.45822206786244,20.45822206786244,20.464313878081665,20.482589308739342,20.510002454725857,20.531323790493147,20.531323790493147,20.531323790493147,20.531323790493147,20.537415600712368,20.540461505821984,20.58005827224695,20.598333702904622,20.60442551312385,20.60442551312385,20.60442551312385,20.66229771020649,20.66838952042572,20.677527235754557,20.677527235754557,20.726261717508358,20.726261717508358,20.75062895838526,20.75062895838526,20.75062895838526,20.75062895838526,20.774996199262162,20.774996199262162,20.774996199262162,20.774996199262162,20.781088009481383,20.790225724810224,20.79936344013906,20.82068477590635,20.823730681015963,20.823730681015963,20.823730681015963,20.823730681015963,20.823730681015963,20.823730681015963,20.823730681015963,20.823730681015963,20.823730681015963,20.823730681015963,20.823730681015963,20.826776586125575,20.884648783208217,20.89683240364667,20.89683240364667,20.89683240364667,20.89683240364667,20.89683240364667,20.89683240364667,20.921199644523572,20.969934126277373,20.969934126277373,20.969934126277376,20.985163651825438,21.01866860803118,21.04303584890808,21.04303584890808,21.04303584890808,21.04303584890808,21.04303584890808,21.04303584890808,21.04303584890808,21.04303584890808,21.04303584890808,21.04303584890808,21.04303584890808,21.061311279565754,21.067403089784978,21.110045761319558,21.116137571538783,21.116137571538783,21.116137571538783,21.116137571538783,21.116137571538783,21.116137571538783,21.116137571538783,21.116137571538783,21.116137571538783,21.116137571538783,21.119183476648395,21.122229381758007,21.164872053292587,21.183147483950265,21.18923929416949,21.18923929416949,21.18923929416949,21.18923929416949,21.18923929416949,21.18923929416949,21.18923929416949,21.18923929416949,21.18923929416949,21.213606535046388,21.241019681032903,21.262341016800196,21.262341016800196,21.262341016800196,21.262341016800196,21.262341016800196,21.262341016800196,21.301937783225156,21.301937783225156,21.311075498553997,21.311075498553997,21.3354427394309,21.3354427394309,21.3354427394309,21.3354427394309,21.3354427394309,21.3354427394309,21.3354427394309,21.3354427394309,21.3354427394309,21.3354427394309,21.3354427394309,21.34762635986935,21.359809980307798,21.359809980307798,21.378085410965475,21.408544462061602,21.408544462061602,21.408544462061602,21.408544462061602,21.408544462061602,21.408544462061602,21.408544462061602,21.408544462061602,21.408544462061602,21.429865797828892,21.47250846936347,21.481646184692305,21.481646184692305,21.481646184692305,21.481646184692305,21.481646184692305,21.481646184692305,21.506013425569208,21.506013425569208,21.506013425569208,21.506013425569208,21.509059330678824,21.554747907323012,21.554747907323012,21.554747907323012,21.554747907323012,21.554747907323012,21.554747907323012,21.554747907323012,21.554747907323012,21.554747907323012,21.554747907323012,21.554747907323012,21.554747907323012,21.554747907323012,21.554747907323012,21.554747907323012,21.55779381243262,21.560839717542237,21.5760692430903,21.57911514819991,21.62784962995372,21.62784962995372,21.62784962995372,21.62784962995372,21.62784962995372,21.62784962995372,21.62784962995372,21.62784962995372,21.649170965721,21.652216870830618,21.652216870830618,21.661354586159455,21.700951352584422,21.700951352584422,21.700951352584422,21.700951352584422,21.700951352584422,21.700951352584422,21.700951352584422,21.700951352584422,21.700951352584422,21.700951352584426,21.700951352584426,21.700951352584426,21.71008906791326,21.728364498570937,21.749685834338223,21.77405307521513,21.77405307521513,21.77405307521513,21.798420316092024,21.807558031420864,21.819741651859317,21.831925272297767,21.847154797845832,21.847154797845832,21.847154797845832,21.847154797845832,21.847154797845832,21.847154797845832,21.847154797845832,21.847154797845832,21.847154797845832,21.895889279599636,21.911118805147698,21.920256520476535,21.920256520476535,21.920256520476535,21.920256520476535,21.920256520476535,21.920256520476535,21.923302425586147,21.972036907339955,21.987266432888017,21.99335824310724,21.99335824310724,21.99335824310724,21.99335824310724,21.99335824310724,21.99335824310724,21.99335824310724,21.99335824310724,21.99335824310724,21.99335824310724,21.99335824310724,22.00554186354569,22.042092724861046,22.057322250409108,22.066459965737945,22.066459965737945,22.066459965737945,22.066459965737945,22.066459965737945,22.087781301505235,22.118240352601358,22.13956168836865,22.13956168836865,22.13956168836865,22.13956168836865,22.13956168836865,22.13956168836865,22.13956168836865,22.13956168836865,22.13956168836865,22.13956168836865,22.13956168836865,22.13956168836865,22.13956168836865,22.157837119026325,22.17002073946478,22.200479790560905,22.20657160078013,22.20961750588974,22.212663410999355,22.212663410999355,22.212663410999355,22.212663410999355,22.212663410999355,22.212663410999355,22.212663410999355,22.212663410999355,22.212663410999355,22.212663410999355,22.212663410999355,22.212663410999355,22.212663410999355,22.237030651876257,22.237030651876257,22.237030651876257,22.246168367205097,22.267489702972384,22.27662741830122,22.285765133630058,22.285765133630058,22.285765133630058,22.285765133630058,22.285765133630058,22.285765133630058,22.285765133630058,22.285765133630058,22.285765133630058,22.285765133630058,22.285765133630058,22.285765133630058,22.285765133630058,22.285765133630058,22.285765133630058,22.285765133630058,22.2949028489589,22.304040564287735,22.328407805164638,22.358866856260764,22.358866856260764,22.358866856260764,22.358866856260764,22.358866856260764,22.358866856260764,22.358866856260764,22.358866856260764,22.431968578891468,22.431968578891468,22.431968578891468,22.431968578891468,22.431968578891468,22.431968578891468,22.431968578891468,22.431968578891468,22.431968578891468,22.43196857889147,22.43196857889147,22.438060389110692,22.480703060645272,22.505070301522174,22.505070301522174,22.505070301522174,22.505070301522174,22.508116206631783,22.52639163728946,22.529437542399073,22.541621162837526,22.578172024152877,22.578172024152877,22.578172024152877,22.578172024152877,22.578172024152877,22.578172024152877,22.578172024152877,22.63604422123552,22.63909012634513,22.651273746783584,22.651273746783584,22.651273746783584,22.651273746783584,22.651273746783584,22.651273746783584,22.651273746783584,22.651273746783584,22.651273746783584,22.651273746783584,22.651273746783584,22.651273746783584,22.654319651893193,22.654319651893193,22.65736555700281,22.709145943866222,22.724375469414287,22.724375469414287,22.724375469414287,22.724375469414287,22.724375469414287,22.724375469414287,22.724375469414287,22.724375469414287,22.724375469414287,22.724375469414287,22.763972235839255,22.779201761387316,22.79747719204499,22.79747719204499,22.79747719204499,22.79747719204499,22.797477192044994,22.800523097154603,22.821844432921893,22.821844432921893,22.855349389127635,22.870578914675697,22.870578914675697,22.870578914675697,22.870578914675697,22.870578914675697,22.870578914675697,22.870578914675697,22.870578914675697,22.870578914675697,22.91626749131989,22.919313396429498,22.919313396429498,22.919313396429498,22.940634732196784,22.9436806373064,22.9436806373064,22.9436806373064,22.9436806373064,22.9436806373064,22.9436806373064,22.9436806373064,22.9436806373064,22.95281835263524,22.968047878183302,22.968047878183306,22.977185593512143,22.977185593512143,22.983277403731368,23.004598739498654,23.016782359937107,23.016782359937107,23.016782359937107,23.016782359937107,23.016782359937107,23.016782359937107,23.016782359937107,23.016782359937107,23.016782359937107,23.03505779059478,23.050287316142846,23.05333322125246,23.05333322125246,23.065516841690908,23.065516841690908,23.089884082567814,23.089884082567814,23.089884082567814,23.089884082567814,23.089884082567814,23.089884082567814,23.089884082567814,23.10206770300626,23.114251323444716,23.114251323444716,23.162985805198517,23.162985805198517,23.162985805198517,23.162985805198517,23.162985805198517,23.162985805198517,23.162985805198517,23.162985805198517,23.162985805198517,23.162985805198517,23.169077615417738,23.172123520527354,23.187353046075415,23.19039895118503,23.211720286952318,23.21476619206193,23.22390390739077,23.233041622719607,23.23608752782922,23.23608752782922,23.23608752782922,23.23608752782922,23.23608752782922,23.23608752782922,23.23608752782922,23.23608752782922,23.23608752782922,23.23608752782922,23.23608752782922,23.26045476870612,23.26045476870612,23.26045476870612,23.309189250459923,23.309189250459923,23.309189250459923,23.309189250459923,23.309189250459923,23.321372870898376,23.35792373221373,23.35792373221373,23.38229097309063,23.38229097309063,23.38229097309063,23.38229097309063,23.38229097309063,23.38229097309063,23.38229097309063,23.388382783309858,23.406658213967532,23.406658213967532,23.455392695721336,23.455392695721336,23.455392695721336,23.455392695721336,23.455392695721336,23.464530411050173,23.50412717747514,23.52849441835204,23.52849441835204,23.52849441835204,23.52849441835204,23.52849441835204,23.52849441835204,23.52849441835204,23.52849441835204,23.528494418352043,23.528494418352043,23.528494418352043,23.528494418352043,23.53458622857126,23.552861659228938,23.552861659228938,23.601596140982746,23.601596140982746,23.601596140982746,23.601596140982746,23.601596140982746,23.601596140982746,23.601596140982746,23.610733856311583,23.64423881251732,23.650330622736547,23.67469786361345,23.67469786361345,23.67469786361345,23.69906510449035,23.747799586244156,23.747799586244156,23.747799586244156,23.747799586244156,23.747799586244156,23.747799586244156,23.747799586244156,23.747799586244156,23.747799586244156,23.747799586244156,23.747799586244156,23.763029111792214,23.796534067997953,23.796534067997953,23.82090130887486,23.82090130887486,23.82090130887486,23.82090130887486,23.82090130887486,23.826993119094084,23.85745217019021,23.860498075299827,23.878773505957497,23.894003031505562,23.894003031505562,23.894003031505562,23.894003031505562,23.894003031505562,23.894003031505562,23.894003031505562,23.894003031505562,23.894003031505562,23.894003031505562,23.894003031505562,23.894003031505562,23.894003031505566,23.894003031505566,23.894003031505566,23.894003031505566,23.894003031505566,23.902125445131198,23.942737513259367,23.954921133697816,23.96710475413627,23.96710475413627,23.96710475413627,23.96710475413627,23.96710475413627,23.96710475413627,23.96710475413627,23.96710475413627,23.96710475413627,23.991471995013168,23.991471995013168,24.040206476766972,24.040206476766972,24.040206476766972,24.040206476766972,24.040206476766972,24.040206476766972,24.040206476766972,24.067619622753487,24.088940958520777,24.11330819939768,24.11330819939768,24.11330819939768,24.11330819939768,24.11330819939768,24.11330819939768,24.11330819939768,24.11330819939768,24.11330819939768,24.11330819939768,24.11330819939768,24.11330819939768,24.11330819939768,24.11330819939768,24.11330819939768,24.11330819939768,24.125491819836128,24.137675440274577,24.186409922028385,24.186409922028385,24.186409922028385,24.186409922028385,24.186409922028385,24.186409922028385,24.235144403782186,24.25951164465909,24.25951164465909,24.25951164465909,24.25951164465909,24.25951164465909,24.25951164465909,24.25951164465909,24.25951164465909,24.283878885535987,24.33261336728979,24.33261336728979,24.33261336728979,24.33261336728979,24.33261336728979,24.33261336728979,24.33261336728979,24.33261336728979,24.33261336728979,24.33261336728979,24.33261336728979,24.33261336728979,24.33261336728979,24.33261336728979,24.33261336728979,24.33261336728979,24.33261336728979,24.405715089920495,24.405715089920495,24.405715089920495,24.405715089920495,24.405715089920495,24.405715089920495,24.405715089920495,24.405715089920495,24.454449571674303,24.4788168125512,24.4788168125512,24.4788168125512,24.4788168125512,24.4788168125512,24.4788168125512,24.4788168125512,24.4788168125512,24.4788168125512,24.4788168125512,24.49100043298965,24.527551294305002,24.527551294305002,24.55191853518191,24.55191853518191,24.55191853518191,24.55191853518191,24.55191853518191,24.55191853518191,24.55191853518191,24.55191853518191,24.55191853518191,24.55191853518191,24.55191853518191,24.62502025781261,24.62502025781261,24.62502025781261,24.62502025781261,24.62502025781261,24.62502025781261,24.62502025781261,24.62502025781261,24.62502025781261,24.62502025781261,24.62502025781261,24.62502025781261,24.625020257812615,24.673754739566412,24.677235773977397,24.698121980443318,24.698121980443318,24.698121980443318,24.698121980443318,24.722489221320213,24.722489221320213,24.77122370307402,24.77122370307402,24.77122370307402,24.77122370307402,24.77122370307402,24.77122370307402,24.77122370307402,24.77122370307402,24.77122370307402,24.819958184827826,24.844325425704724,24.844325425704724,24.844325425704724,24.844325425704724,24.844325425704724,24.844325425704724,24.844325425704724,24.844325425704724,24.844325425704724,24.844325425704724,24.844325425704724,24.844325425704724,24.844325425704724,24.844325425704724,24.844325425704724,24.844325425704724,24.844325425704724,24.844325425704724,24.844325425704724,24.844325425704724,24.844325425704724,24.91742714833543,24.91742714833543,24.91742714833543,24.91742714833543,24.91742714833543,24.91742714833543,24.935702578993105,24.966161630089236,24.990528870966134,24.990528870966134,24.990528870966134,24.990528870966134,24.990528870966134,24.990528870966134,24.990528870966134,24.990528870966134,24.990528870966134,24.990528870966134,24.990528870966134,24.990528870966134,24.990528870966134,24.990528870966134,24.990528870966138,24.990528870966138,25.06363059359684,25.06363059359684,25.06363059359684,25.06363059359684,25.06363059359684,25.06363059359684,25.06363059359684,25.06363059359684,25.06363059359684,25.06363059359684,25.06363059359684,25.06363059359684,25.06363059359684,25.06363059359684,25.06363059359684,25.06363059359684,25.11845688556987,25.136732316227544,25.136732316227544,25.136732316227544,25.136732316227544,25.136732316227544,25.136732316227544,25.136732316227544,25.136732316227544,25.136732316227544,25.136732316227544,25.161099557104446,25.20983403885825,25.20983403885825,25.20983403885825,25.20983403885825,25.20983403885825,25.20983403885825,25.20983403885825,25.20983403885825,25.20983403885825,25.20983403885825,25.20983403885825,25.20983403885825,25.282935761488954,25.282935761488954,25.282935761488954,25.282935761488954,25.282935761488954,25.282935761488954,25.282935761488954,25.282935761488954,25.282935761488954,25.282935761488954,25.282935761488954,25.282935761488954,25.282935761488954,25.282935761488954,25.356037484119657,25.356037484119657,25.356037484119657,25.356037484119657,25.356037484119657,25.356037484119657,25.356037484119657,25.356037484119657,25.356037484119657,25.40477196587346,25.429139206750364,25.429139206750364,25.429139206750364,25.429139206750364,25.429139206750364,25.429139206750364,25.429139206750364,25.502240929381067,25.502240929381067,25.502240929381067,25.502240929381067,25.502240929381067,25.575342652011773,25.575342652011773,25.575342652011773,25.575342652011773,25.575342652011773,25.575342652011773,25.575342652011773,25.575342652011773,25.64844437464248,25.64844437464248,25.64844437464248,25.64844437464248,25.64844437464248,25.64844437464248,25.64844437464248,25.64844437464248,25.67768506369476,25.684995235957828,25.684995235957828,25.684995235957828,25.721546097273183,25.721546097273183,25.721546097273183,25.721546097273183,25.758096958588535,25.794647819903886,25.794647819903886,25.794647819903886,25.794647819903886,25.86774954253459,25.86774954253459,25.86774954253459,25.86774954253459,25.86774954253459,25.940851265165296,25.940851265165296,25.940851265165296,25.940851265165296,25.940851265165296,25.940851265165296,25.940851265165296,25.940851265165296,25.940851265165296,25.940851265165296,25.940851265165296,25.940851265165296,26.013952987796003,26.013952987796003,26.013952987796003,26.087054710426706,26.087054710426706,26.087054710426706,26.087054710426706,26.087054710426706,26.08705471042671,26.160156433057413,26.160156433057413,26.196707294372764,26.233258155688116,26.233258155688116,26.28199263744192,26.30635987831882,26.30635987831882,26.30635987831882,26.30635987831882,26.30635987831882,26.403828841826428,26.416012462264877,26.416012462264877,26.416012462264877,26.45256332358023,26.452563323580232,26.59876676884164,26.59876676884164,26.671868491472345,26.671868491472345,26.671868491472345,26.671868491472345,26.671868491472345,26.671868491472345,26.7815210754184,26.89117365936446,27.000826243310517,27.07392796594122,27.256682272517985,27.293233133833336,27.439436579094746,28.57251327987067],\"yaxis\":\"y\",\"type\":\"scatter\"}],                        {\"template\":{\"data\":{\"bar\":[{\"error_x\":{\"color\":\"#2a3f5f\"},\"error_y\":{\"color\":\"#2a3f5f\"},\"marker\":{\"line\":{\"color\":\"#E5ECF6\",\"width\":0.5},\"pattern\":{\"fillmode\":\"overlay\",\"size\":10,\"solidity\":0.2}},\"type\":\"bar\"}],\"barpolar\":[{\"marker\":{\"line\":{\"color\":\"#E5ECF6\",\"width\":0.5},\"pattern\":{\"fillmode\":\"overlay\",\"size\":10,\"solidity\":0.2}},\"type\":\"barpolar\"}],\"carpet\":[{\"aaxis\":{\"endlinecolor\":\"#2a3f5f\",\"gridcolor\":\"white\",\"linecolor\":\"white\",\"minorgridcolor\":\"white\",\"startlinecolor\":\"#2a3f5f\"},\"baxis\":{\"endlinecolor\":\"#2a3f5f\",\"gridcolor\":\"white\",\"linecolor\":\"white\",\"minorgridcolor\":\"white\",\"startlinecolor\":\"#2a3f5f\"},\"type\":\"carpet\"}],\"choropleth\":[{\"colorbar\":{\"outlinewidth\":0,\"ticks\":\"\"},\"type\":\"choropleth\"}],\"contour\":[{\"colorbar\":{\"outlinewidth\":0,\"ticks\":\"\"},\"colorscale\":[[0.0,\"#0d0887\"],[0.1111111111111111,\"#46039f\"],[0.2222222222222222,\"#7201a8\"],[0.3333333333333333,\"#9c179e\"],[0.4444444444444444,\"#bd3786\"],[0.5555555555555556,\"#d8576b\"],[0.6666666666666666,\"#ed7953\"],[0.7777777777777778,\"#fb9f3a\"],[0.8888888888888888,\"#fdca26\"],[1.0,\"#f0f921\"]],\"type\":\"contour\"}],\"contourcarpet\":[{\"colorbar\":{\"outlinewidth\":0,\"ticks\":\"\"},\"type\":\"contourcarpet\"}],\"heatmap\":[{\"colorbar\":{\"outlinewidth\":0,\"ticks\":\"\"},\"colorscale\":[[0.0,\"#0d0887\"],[0.1111111111111111,\"#46039f\"],[0.2222222222222222,\"#7201a8\"],[0.3333333333333333,\"#9c179e\"],[0.4444444444444444,\"#bd3786\"],[0.5555555555555556,\"#d8576b\"],[0.6666666666666666,\"#ed7953\"],[0.7777777777777778,\"#fb9f3a\"],[0.8888888888888888,\"#fdca26\"],[1.0,\"#f0f921\"]],\"type\":\"heatmap\"}],\"heatmapgl\":[{\"colorbar\":{\"outlinewidth\":0,\"ticks\":\"\"},\"colorscale\":[[0.0,\"#0d0887\"],[0.1111111111111111,\"#46039f\"],[0.2222222222222222,\"#7201a8\"],[0.3333333333333333,\"#9c179e\"],[0.4444444444444444,\"#bd3786\"],[0.5555555555555556,\"#d8576b\"],[0.6666666666666666,\"#ed7953\"],[0.7777777777777778,\"#fb9f3a\"],[0.8888888888888888,\"#fdca26\"],[1.0,\"#f0f921\"]],\"type\":\"heatmapgl\"}],\"histogram\":[{\"marker\":{\"pattern\":{\"fillmode\":\"overlay\",\"size\":10,\"solidity\":0.2}},\"type\":\"histogram\"}],\"histogram2d\":[{\"colorbar\":{\"outlinewidth\":0,\"ticks\":\"\"},\"colorscale\":[[0.0,\"#0d0887\"],[0.1111111111111111,\"#46039f\"],[0.2222222222222222,\"#7201a8\"],[0.3333333333333333,\"#9c179e\"],[0.4444444444444444,\"#bd3786\"],[0.5555555555555556,\"#d8576b\"],[0.6666666666666666,\"#ed7953\"],[0.7777777777777778,\"#fb9f3a\"],[0.8888888888888888,\"#fdca26\"],[1.0,\"#f0f921\"]],\"type\":\"histogram2d\"}],\"histogram2dcontour\":[{\"colorbar\":{\"outlinewidth\":0,\"ticks\":\"\"},\"colorscale\":[[0.0,\"#0d0887\"],[0.1111111111111111,\"#46039f\"],[0.2222222222222222,\"#7201a8\"],[0.3333333333333333,\"#9c179e\"],[0.4444444444444444,\"#bd3786\"],[0.5555555555555556,\"#d8576b\"],[0.6666666666666666,\"#ed7953\"],[0.7777777777777778,\"#fb9f3a\"],[0.8888888888888888,\"#fdca26\"],[1.0,\"#f0f921\"]],\"type\":\"histogram2dcontour\"}],\"mesh3d\":[{\"colorbar\":{\"outlinewidth\":0,\"ticks\":\"\"},\"type\":\"mesh3d\"}],\"parcoords\":[{\"line\":{\"colorbar\":{\"outlinewidth\":0,\"ticks\":\"\"}},\"type\":\"parcoords\"}],\"pie\":[{\"automargin\":true,\"type\":\"pie\"}],\"scatter\":[{\"marker\":{\"colorbar\":{\"outlinewidth\":0,\"ticks\":\"\"}},\"type\":\"scatter\"}],\"scatter3d\":[{\"line\":{\"colorbar\":{\"outlinewidth\":0,\"ticks\":\"\"}},\"marker\":{\"colorbar\":{\"outlinewidth\":0,\"ticks\":\"\"}},\"type\":\"scatter3d\"}],\"scattercarpet\":[{\"marker\":{\"colorbar\":{\"outlinewidth\":0,\"ticks\":\"\"}},\"type\":\"scattercarpet\"}],\"scattergeo\":[{\"marker\":{\"colorbar\":{\"outlinewidth\":0,\"ticks\":\"\"}},\"type\":\"scattergeo\"}],\"scattergl\":[{\"marker\":{\"colorbar\":{\"outlinewidth\":0,\"ticks\":\"\"}},\"type\":\"scattergl\"}],\"scattermapbox\":[{\"marker\":{\"colorbar\":{\"outlinewidth\":0,\"ticks\":\"\"}},\"type\":\"scattermapbox\"}],\"scatterpolar\":[{\"marker\":{\"colorbar\":{\"outlinewidth\":0,\"ticks\":\"\"}},\"type\":\"scatterpolar\"}],\"scatterpolargl\":[{\"marker\":{\"colorbar\":{\"outlinewidth\":0,\"ticks\":\"\"}},\"type\":\"scatterpolargl\"}],\"scatterternary\":[{\"marker\":{\"colorbar\":{\"outlinewidth\":0,\"ticks\":\"\"}},\"type\":\"scatterternary\"}],\"surface\":[{\"colorbar\":{\"outlinewidth\":0,\"ticks\":\"\"},\"colorscale\":[[0.0,\"#0d0887\"],[0.1111111111111111,\"#46039f\"],[0.2222222222222222,\"#7201a8\"],[0.3333333333333333,\"#9c179e\"],[0.4444444444444444,\"#bd3786\"],[0.5555555555555556,\"#d8576b\"],[0.6666666666666666,\"#ed7953\"],[0.7777777777777778,\"#fb9f3a\"],[0.8888888888888888,\"#fdca26\"],[1.0,\"#f0f921\"]],\"type\":\"surface\"}],\"table\":[{\"cells\":{\"fill\":{\"color\":\"#EBF0F8\"},\"line\":{\"color\":\"white\"}},\"header\":{\"fill\":{\"color\":\"#C8D4E3\"},\"line\":{\"color\":\"white\"}},\"type\":\"table\"}]},\"layout\":{\"annotationdefaults\":{\"arrowcolor\":\"#2a3f5f\",\"arrowhead\":0,\"arrowwidth\":1},\"autotypenumbers\":\"strict\",\"coloraxis\":{\"colorbar\":{\"outlinewidth\":0,\"ticks\":\"\"}},\"colorscale\":{\"diverging\":[[0,\"#8e0152\"],[0.1,\"#c51b7d\"],[0.2,\"#de77ae\"],[0.3,\"#f1b6da\"],[0.4,\"#fde0ef\"],[0.5,\"#f7f7f7\"],[0.6,\"#e6f5d0\"],[0.7,\"#b8e186\"],[0.8,\"#7fbc41\"],[0.9,\"#4d9221\"],[1,\"#276419\"]],\"sequential\":[[0.0,\"#0d0887\"],[0.1111111111111111,\"#46039f\"],[0.2222222222222222,\"#7201a8\"],[0.3333333333333333,\"#9c179e\"],[0.4444444444444444,\"#bd3786\"],[0.5555555555555556,\"#d8576b\"],[0.6666666666666666,\"#ed7953\"],[0.7777777777777778,\"#fb9f3a\"],[0.8888888888888888,\"#fdca26\"],[1.0,\"#f0f921\"]],\"sequentialminus\":[[0.0,\"#0d0887\"],[0.1111111111111111,\"#46039f\"],[0.2222222222222222,\"#7201a8\"],[0.3333333333333333,\"#9c179e\"],[0.4444444444444444,\"#bd3786\"],[0.5555555555555556,\"#d8576b\"],[0.6666666666666666,\"#ed7953\"],[0.7777777777777778,\"#fb9f3a\"],[0.8888888888888888,\"#fdca26\"],[1.0,\"#f0f921\"]]},\"colorway\":[\"#636efa\",\"#EF553B\",\"#00cc96\",\"#ab63fa\",\"#FFA15A\",\"#19d3f3\",\"#FF6692\",\"#B6E880\",\"#FF97FF\",\"#FECB52\"],\"font\":{\"color\":\"#2a3f5f\"},\"geo\":{\"bgcolor\":\"white\",\"lakecolor\":\"white\",\"landcolor\":\"#E5ECF6\",\"showlakes\":true,\"showland\":true,\"subunitcolor\":\"white\"},\"hoverlabel\":{\"align\":\"left\"},\"hovermode\":\"closest\",\"mapbox\":{\"style\":\"light\"},\"paper_bgcolor\":\"white\",\"plot_bgcolor\":\"#E5ECF6\",\"polar\":{\"angularaxis\":{\"gridcolor\":\"white\",\"linecolor\":\"white\",\"ticks\":\"\"},\"bgcolor\":\"#E5ECF6\",\"radialaxis\":{\"gridcolor\":\"white\",\"linecolor\":\"white\",\"ticks\":\"\"}},\"scene\":{\"xaxis\":{\"backgroundcolor\":\"#E5ECF6\",\"gridcolor\":\"white\",\"gridwidth\":2,\"linecolor\":\"white\",\"showbackground\":true,\"ticks\":\"\",\"zerolinecolor\":\"white\"},\"yaxis\":{\"backgroundcolor\":\"#E5ECF6\",\"gridcolor\":\"white\",\"gridwidth\":2,\"linecolor\":\"white\",\"showbackground\":true,\"ticks\":\"\",\"zerolinecolor\":\"white\"},\"zaxis\":{\"backgroundcolor\":\"#E5ECF6\",\"gridcolor\":\"white\",\"gridwidth\":2,\"linecolor\":\"white\",\"showbackground\":true,\"ticks\":\"\",\"zerolinecolor\":\"white\"}},\"shapedefaults\":{\"line\":{\"color\":\"#2a3f5f\"}},\"ternary\":{\"aaxis\":{\"gridcolor\":\"white\",\"linecolor\":\"white\",\"ticks\":\"\"},\"baxis\":{\"gridcolor\":\"white\",\"linecolor\":\"white\",\"ticks\":\"\"},\"bgcolor\":\"#E5ECF6\",\"caxis\":{\"gridcolor\":\"white\",\"linecolor\":\"white\",\"ticks\":\"\"}},\"title\":{\"x\":0.05},\"xaxis\":{\"automargin\":true,\"gridcolor\":\"white\",\"linecolor\":\"white\",\"ticks\":\"\",\"title\":{\"standoff\":15},\"zerolinecolor\":\"white\",\"zerolinewidth\":2},\"yaxis\":{\"automargin\":true,\"gridcolor\":\"white\",\"linecolor\":\"white\",\"ticks\":\"\",\"title\":{\"standoff\":15},\"zerolinecolor\":\"white\",\"zerolinewidth\":2}}},\"xaxis\":{\"anchor\":\"y\",\"domain\":[0.0,1.0],\"title\":{\"text\":\"Temperatura Real\"}},\"yaxis\":{\"anchor\":\"x\",\"domain\":[0.0,1.0],\"title\":{\"text\":\"Temperatura Predita\"}},\"legend\":{\"tracegroupgap\":0},\"margin\":{\"t\":60}},                        {\"responsive\": true}                    ).then(function(){\n",
              "                            \n",
              "var gd = document.getElementById('b48c8aa7-36c4-496f-91f9-5848c7cbbe09');\n",
              "var x = new MutationObserver(function (mutations, observer) {{\n",
              "        var display = window.getComputedStyle(gd).display;\n",
              "        if (!display || display === 'none') {{\n",
              "            console.log([gd, 'removed!']);\n",
              "            Plotly.purge(gd);\n",
              "            observer.disconnect();\n",
              "        }}\n",
              "}});\n",
              "\n",
              "// Listen for the removal of the full notebook cells\n",
              "var notebookContainer = gd.closest('#notebook-container');\n",
              "if (notebookContainer) {{\n",
              "    x.observe(notebookContainer, {childList: true});\n",
              "}}\n",
              "\n",
              "// Listen for the clearing of the current output cell\n",
              "var outputEl = gd.closest('.output');\n",
              "if (outputEl) {{\n",
              "    x.observe(outputEl, {childList: true});\n",
              "}}\n",
              "\n",
              "                        })                };                            </script>        </div>\n",
              "</body>\n",
              "</html>"
            ]
          },
          "metadata": {}
        }
      ]
    },
    {
      "cell_type": "markdown",
      "source": [
        "### SMV"
      ],
      "metadata": {
        "id": "47wRyUKNFLNx"
      }
    },
    {
      "cell_type": "code",
      "source": [
        "from sklearn.preprocessing import StandardScaler\n",
        "from sklearn.svm import SVR\n",
        "SdataX = StandardScaler()\n",
        "x_train_s = SdataX.fit_transform(x_train)\n",
        "x_test_s = SdataX.fit_transform(x_test)\n",
        "SdataY= StandardScaler()\n",
        "#Transforma de uma matriz para vetor\n",
        "y_train_s = SdataY.fit_transform(y_train.values.reshape(-1,1))\n",
        "y_test_s = SdataY.fit_transform(y_test.values.reshape(-1,1))"
      ],
      "metadata": {
        "id": "s-eF8k2s4Taz"
      },
      "execution_count": null,
      "outputs": []
    },
    {
      "cell_type": "code",
      "source": [
        "#Predição\n",
        "regressor_svr= SVR(kernel='rbf', C=1.0, gamma='scale')\n",
        "#y_train precisou ser convertido para vetor através do ravel\n",
        "regressor_svr.fit(x_train_s, y_train_s.ravel())\n",
        "y_pred_SVR = regressor_svr.predict(x_test_s)"
      ],
      "metadata": {
        "id": "RnUAw4L6erpF"
      },
      "execution_count": null,
      "outputs": []
    },
    {
      "cell_type": "code",
      "source": [
        "print('Erro teste:',round(regressor_svr.score(x_test_s, y_test_s),2))"
      ],
      "metadata": {
        "colab": {
          "base_uri": "https://localhost:8080/"
        },
        "id": "Px7jXVb-euqA",
        "outputId": "29069975-9811-4937-9151-65e8fe98dff8"
      },
      "execution_count": null,
      "outputs": [
        {
          "output_type": "stream",
          "name": "stdout",
          "text": [
            "Erro teste: 0.77\n"
          ]
        }
      ]
    },
    {
      "cell_type": "code",
      "source": [
        "#É preciso reescalonar os dados\n",
        "y_test_i = SdataY.inverse_transform(y_test_s)\n",
        "y_predR = y_pred_SVR.reshape(-1,1)\n",
        "y_pred_SVR_i = SdataY.inverse_transform(y_predR)"
      ],
      "metadata": {
        "id": "PSBbxoIHexhF"
      },
      "execution_count": null,
      "outputs": []
    },
    {
      "cell_type": "markdown",
      "source": [
        "### ÁRVORE ALEATÓRIA"
      ],
      "metadata": {
        "id": "3nGsgeHKERfz"
      }
    },
    {
      "cell_type": "code",
      "source": [
        "from sklearn.ensemble import RandomForestRegressor\n",
        "reg_rf = RandomForestRegressor(n_estimators=100, min_samples_split=5, \n",
        "                               min_samples_leaf=1, max_features='auto', \n",
        "                               max_depth=None, bootstrap=True)\n",
        "reg_rf.fit(x_train, y_train)\n",
        "prev_rf = reg_rf.predict(x_test)"
      ],
      "metadata": {
        "id": "dP8E3sFZERGR"
      },
      "execution_count": null,
      "outputs": []
    },
    {
      "cell_type": "code",
      "source": [
        "print('Erro teste:',round(reg_rf.score(x_test, y_test),2))"
      ],
      "metadata": {
        "colab": {
          "base_uri": "https://localhost:8080/"
        },
        "id": "UHGHZqYfX6c6",
        "outputId": "53fbf042-7b75-4722-8ca4-c0648c3539ca"
      },
      "execution_count": null,
      "outputs": [
        {
          "output_type": "stream",
          "name": "stdout",
          "text": [
            "Erro teste: 0.75\n"
          ]
        }
      ]
    },
    {
      "cell_type": "markdown",
      "source": [
        "### MÉTRICAS"
      ],
      "metadata": {
        "id": "FexJvk-Sokd8"
      }
    },
    {
      "cell_type": "code",
      "source": [
        "from sklearn.metrics import r2_score\n",
        "from sklearn.metrics import mean_squared_error\n",
        "from sklearn.metrics import median_absolute_error\n",
        "score=r2_score(y_test,y_prediction)\n",
        "score_msv=r2_score(y_test_i,y_pred_SVR_i)\n",
        "score_rf=r2_score(y_test,prev_rf)\n",
        "colnames = ['Modelo','R²', 'RMSE', 'MAE']\n",
        "met = pd.DataFrame([['RLM', round(score,2), round(np.sqrt(mean_squared_error(y_test,y_prediction)),2),round(median_absolute_error(y_test, y_prediction),2)],\n",
        "                   ['MSV', round(score_msv,2), round(np.sqrt(mean_squared_error(y_test_i,y_pred_SVR_i)),2),round(median_absolute_error(y_test_i,y_pred_SVR_i),2)],\n",
        "                   ['FA',round(score_rf,2), round(np.sqrt(mean_squared_error(y_test, prev_rf)),2), round(median_absolute_error(y_test, prev_rf),2)]],\n",
        "                   columns = colnames)\n",
        "met.set_index('Modelo', inplace = True)\n",
        "display(met)"
      ],
      "metadata": {
        "id": "0vWMPZphPam1"
      },
      "execution_count": null,
      "outputs": []
    }
  ]
}